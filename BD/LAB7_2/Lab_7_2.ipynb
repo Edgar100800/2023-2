{
  "cells": [
    {
      "attachments": {},
      "cell_type": "markdown",
      "metadata": {
        "id": "fr2ewyCfSkO1"
      },
      "source": [
        "# Laborato 7.2"
      ]
    },
    {
      "cell_type": "code",
      "execution_count": 6,
      "metadata": {
        "colab": {
          "base_uri": "https://localhost:8080/"
        },
        "id": "yVHsYSHpUwrb",
        "outputId": "2f7d71c6-2dfb-4f87-db53-a763f7c26a15"
      },
      "outputs": [
        {
          "name": "stderr",
          "output_type": "stream",
          "text": [
            "[nltk_data] Downloading package punkt to /root/nltk_data...\n",
            "[nltk_data]   Package punkt is already up-to-date!\n"
          ]
        },
        {
          "data": {
            "text/plain": [
              "True"
            ]
          },
          "execution_count": 6,
          "metadata": {},
          "output_type": "execute_result"
        }
      ],
      "source": [
        "import nltk\n",
        "import numpy as np\n",
        "from nltk.stem.snowball import SnowballStemmer\n",
        "nltk.download('punkt')"
      ]
    },
    {
      "attachments": {},
      "cell_type": "markdown",
      "metadata": {
        "id": "XPoEHpwva7eP"
      },
      "source": [
        "## P3- Matriz de similitudes\n",
        "> Elabore una matriz de similitud de coseno entre los documentos de la colección \"El Señor de los Anillos\". Debe aplicar los pesos TF-IDF. "
      ]
    },
    {
      "attachments": {},
      "cell_type": "markdown",
      "metadata": {},
      "source": [
        "### 1- Preprocesamiento"
      ]
    },
    {
      "cell_type": "code",
      "execution_count": null,
      "metadata": {
        "colab": {
          "base_uri": "https://localhost:8080/"
        },
        "id": "X31vxQmca_nu",
        "outputId": "68f6a6ec-6366-410d-b1a7-ff4616cab1fc"
      },
      "outputs": [],
      "source": [
        "import re\n",
        "\n",
        "stoplist_words = set()\n",
        "with open('stoplist.txt', 'r') as archivo_stoplist:\n",
        "    for palabra in archivo_stoplist:\n",
        "        stoplist_words.add(palabra.strip())\n",
        "\n",
        "print(stoplist_words)\n",
        "\n",
        "def preprocesamiento(texto):\n",
        "  conjunto_total = set()  # Utiliza set() para crear un conjunto vacío\n",
        "  # conjuntos_libros = []\n",
        "  for linea in texto:\n",
        "    palabras = linea.split()\n",
        "    for palabra in palabras:\n",
        "        if palabra[-1] in [\".\", \",\", \":\", \";\", \"?\", \"!\", \"¡\", \"¿\"]:\n",
        "            palabra = palabra[:-1]\n",
        "        if palabra.lower() not in stoplist_words:\n",
        "            conjunto_total.add(palabra)\n",
        "    return conjunto_total\n",
        "  # tokenizar\n",
        "  \n",
        "  # filtrar stopwords\n",
        "    \n",
        "  # reducir palabras\n",
        "\n",
        "\n",
        "textos = [\"libro1.txt\",\"libro2.txt\",\"libro3.txt\",\"libro4.txt\",\"libro5.txt\",\"libro6.txt\"]\n",
        "textos_procesados = []\n",
        "indice = {}\n",
        "for file_name in textos:\n",
        "  file = open(\"docs/\"+file_name)\n",
        "  texto = file.read().rstrip()\n",
        "  texto = preprocesamiento(texto)  \n",
        "  textos_procesados.append(texto)"
      ]
    },
    {
      "attachments": {},
      "cell_type": "markdown",
      "metadata": {
        "id": "dXBNvBLxTnTy"
      },
      "source": [
        "### 2- Similitud de coseno"
      ]
    },
    {
      "cell_type": "code",
      "execution_count": null,
      "metadata": {
        "id": "k4uL88ZGbiCf"
      },
      "outputs": [],
      "source": [
        "def compute_tfidf(collection):\n",
        "  # calcular los pesos TF_IDF para cada documento de la coleccion\n",
        "  pass\n",
        "\n",
        "def cosine_sim(Q, Doc):  \n",
        "  # aplicar la similitud de coseno y construir la matriz\n",
        "  pass\n",
        "  \n",
        "textos_tfidf = compute_tfidf(textos_procesados)\n",
        "\n",
        "matriz = []\n",
        "for doc1 in textos_tfidf:\n",
        "  row = []\n",
        "  for doc2 in textos_tfidf:  \n",
        "    row.append(cosine_sim(doc1, doc2))\n",
        "  matriz.append(row)\n",
        "\n",
        "print(matriz)\n"
      ]
    },
    {
      "attachments": {},
      "cell_type": "markdown",
      "metadata": {},
      "source": [
        "## P4- Indice invertido con similitud de coseno"
      ]
    },
    {
      "attachments": {},
      "cell_type": "markdown",
      "metadata": {},
      "source": [
        "### 1- Estructura del índice invertido en Python:"
      ]
    },
    {
      "cell_type": "code",
      "execution_count": null,
      "metadata": {},
      "outputs": [],
      "source": [
        "\"\"\"\n",
        "index = {\n",
        "w1 : [(doc1, tf_w1_doc1), (doc3, tf_w1_doc3),(doc4, tf_w1_doc4),(doc10, tf_w1_doc10)],\n",
        "w2 : [(doc1, tf_w2_doc1 ), (doc2, tf_w2_doc2)],\n",
        "w3 : [(doc2, tf_w3_doc2), (doc3, tf_w3_doc3),(doc7, tf_w3_doc7)],\n",
        "}\n",
        "\n",
        "idf = {\n",
        "w1 : idf_w1,\n",
        "w2 : idf_w2,\n",
        "w3 : idf_w3,\n",
        "}\n",
        "\n",
        "length ={\n",
        "doc1: norm_doc1,\n",
        "doc2: norm_doc2,\n",
        "doc3: norm_doc3,\n",
        "...\n",
        "}\n",
        "\"\"\""
      ]
    },
    {
      "attachments": {},
      "cell_type": "markdown",
      "metadata": {},
      "source": [
        "### 2- Algoritmo para construir el índice\n",
        "### 3-\tFunción de recuperación usando la similitud de coseno:"
      ]
    },
    {
      "cell_type": "code",
      "execution_count": null,
      "metadata": {},
      "outputs": [],
      "source": [
        "class InvertIndex: \n",
        "\n",
        "    def __init__(self, index_file):\n",
        "        self.index_file = index_file\n",
        "        self.index = {}\n",
        "        self.idf = {}\n",
        "        self.length = {}\n",
        "    \n",
        "    def building(self, collection_text):\n",
        "        # build the inverted index with the collection\n",
        "        # compute the tf\n",
        "        # compute the idf\n",
        "        # compute the length (norm)\n",
        "        # store in disk\n",
        "        pass\n",
        "        \n",
        "    def retrieval(self, query, k):\n",
        "        self.load_index(self.index_file)\n",
        "        # diccionario para el score\n",
        "        score = {}\n",
        "        # preprocesar la query: extraer los terminos unicos\n",
        "        \n",
        "        # calcular el tf-idf del query\n",
        "        \n",
        "        # aplicar similitud de coseno y guardarlo en el diccionario score\n",
        "                \n",
        "        # ordenar el score de forma descendente\n",
        "        result = sorted(score.items(), key= lambda tup: tup[1], reverse=True)\n",
        "        # retornamos los k documentos mas relevantes (de mayor similitud al query)\n",
        "        return result[:k]    "
      ]
    }
  ],
  "metadata": {
    "colab": {
      "collapsed_sections": [],
      "provenance": []
    },
    "kernelspec": {
      "display_name": "Python 3",
      "name": "python3"
    },
    "language_info": {
      "name": "python"
    }
  },
  "nbformat": 4,
  "nbformat_minor": 0
}
