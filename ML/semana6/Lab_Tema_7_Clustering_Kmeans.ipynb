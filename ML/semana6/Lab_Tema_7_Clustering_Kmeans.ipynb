{
  "cells": [
    {
      "cell_type": "markdown",
      "metadata": {
        "id": "AJJBBGO3SXaU"
      },
      "source": [
        " # Práctica  7.\n",
        " ----\n",
        "  \n",
        "  Universidad : UTEC \\\\\n",
        "  Curso       : Inteligencia Artificial \\\\\n",
        "  Profesor    : Cristian López Del Alamo \\\\\n",
        "  Tema        : KMEANS \\\\\n",
        "  \n",
        "\n",
        " ----\n",
        "\n",
        " Nombres y  Apellidos de Integrantes:\n",
        " - Integrante 1 (%):\n",
        " - Integrante 2 (%):\n",
        " - Integrante 3 (%):\n",
        " - Integrante 4 (%):\n",
        "\n",
        "Nota: Ingrese el nombre de los integrantes y entre paréntesis coloque el % de participanción en el desarrollo\n",
        "de la práctica.\n",
        "\n",
        "*Una vez concluya la práctica debe subir el link de su colab a este  [Drive](https://docs.google.com/spreadsheets/d/1XCxGVmf8g29C7RZSPOqxvZHjjRZg45LHWR8mkZOfS1o/edit?usp=sharing)*"
      ]
    },
    {
      "cell_type": "markdown",
      "metadata": {
        "id": "5WrR4_s8NVNB"
      },
      "source": [
        "# Actividades\n",
        "\n",
        "1. Descargue la siguiente imagen: [Download](https://media.sciencephoto.com/image/c0269954/800wm) .\n",
        "2. Implemente el algoritmo K-Means.\n",
        "3. Los elementos a agrupar serán los píxeles de la imagen.\n",
        "4. Cada píxel es un elemento (vector), donde las características  son la intensidad de color o colores (RGB) de cada píxel; es decir, cada pixel es un vector 3D.\n",
        "5. Todos los vectores (pixel) más cercanos a un centroide deben ser pintados de un mismo colocor. Esto permitirá ver los clusters.\n",
        "6. Realice pruebas con distintos valores de K.\n",
        "7. Asigne un color a cada grupo y repinte la imagen teniendo en cuenta que todos los píxeles de una misma  clase tengan el mismo color.\n"
      ]
    },
    {
      "cell_type": "code",
      "execution_count": 14,
      "metadata": {
        "id": "6U2MDR6Vko46"
      },
      "outputs": [],
      "source": [
        "import random\n",
        "import numpy as np\n",
        "from PIL import Image"
      ]
    },
    {
      "cell_type": "code",
      "execution_count": 15,
      "metadata": {},
      "outputs": [
        {
          "name": "stdout",
          "output_type": "stream",
          "text": [
            "(800, 682, 3)\n"
          ]
        }
      ],
      "source": [
        "\n",
        "# Abre la imagen\n",
        "imagen = Image.open('800wm.jpeg')\n",
        "\n",
        "\n",
        "# Convierte la imagen en una matriz NumPy\n",
        "matriz_imagen = np.array(imagen)\n",
        "print(matriz_imagen.shape)\n",
        "new_matriz = []\n",
        "for i in range (matriz_imagen.shape[0]):\n",
        "    for j in range (matriz_imagen.shape[1]):\n",
        "        new_matriz.append(matriz_imagen[i,j])\n",
        "        # print(matriz_imagen[i,j])\n",
        "# print(matriz_imagen[45])\n"
      ]
    },
    {
      "cell_type": "code",
      "execution_count": null,
      "metadata": {
        "id": "YrNYg7jzO5t8"
      },
      "outputs": [],
      "source": [
        "#Devuelve la distancia entre 2 vectores.\n",
        "#Pruebe con varias funciones de distancia.\n",
        "def distance(v1,v2):\n",
        "    # distancia = np.linalg.norm(v1 - v2)\n",
        "    (v1) != len(v2):\n",
        "      print(\"Los vectores tienen longitudes distintas\")\n",
        "    return math.sqrt(sum((x - y) ** 2 for x, y in zip(v1, v2)))\n"
      ]
    },
    {
      "cell_type": "code",
      "execution_count": null,
      "metadata": {
        "id": "KAb2jdD_PlzM"
      },
      "outputs": [],
      "source": [
        "# Inicialice los k centroides tomando aleatoriamente k elementos de los datos para que cada\n",
        "# centroide tenga una ubicación inicial en el espacio de características.\n",
        "# Nota, puede mejorar este algoritmo, inicializando los centroides de manera más inteligente.\n",
        "def Init_Centroide(data,k):\n",
        "  #write your code here\n",
        "  pass\n"
      ]
    },
    {
      "cell_type": "code",
      "execution_count": null,
      "metadata": {
        "id": "9GIo-uyzO9yF"
      },
      "outputs": [],
      "source": [
        "# Dado que los grupos se han formado previamente, se pueden obtener nuevos\n",
        "# centroides calculando el vector promedio de cada grupo.\n",
        "\n",
        "def return_new_centroide(grupos, data,k):\n",
        "  #write your code here\n",
        "  pass\n"
      ]
    },
    {
      "cell_type": "code",
      "execution_count": null,
      "metadata": {
        "id": "zOLY5VPwP9M4"
      },
      "outputs": [],
      "source": [
        "# La función devuelve un vector de números entre 0 y k-1, donde cada valor indica la clase\n",
        "# a la que pertenece cada elemento del dataset.\n",
        "def get_cluster(data,centroides):\n",
        "  #write your code here\n",
        "  pass\n",
        "\n"
      ]
    },
    {
      "cell_type": "code",
      "execution_count": null,
      "metadata": {
        "id": "Mx2-Hm5hPaiA"
      },
      "outputs": [],
      "source": [
        "# Halla la distancia promedio entre los antiguos centroides y los nuevos centroides para evaluar\n",
        "# la convergencia del algoritmo K-Means y determinar si se debe continuar con la iteración.\n",
        "def distancia_promedio_centroides(old_centroide, new_centroide):\n",
        "  #write your code here\n",
        "  pass\n"
      ]
    },
    {
      "cell_type": "code",
      "execution_count": null,
      "metadata": {
        "id": "OvhCEmUbPKHq"
      },
      "outputs": [],
      "source": [
        "# Este es el algoritmo K-Means. Debe retornar los centroides y los clusters\n",
        "# generados para poder utilizarlos en análisis posteriores.\n",
        "def kmeans(data, k, umbral):\n",
        "  centroides =  Init_Centroide(data,k)\n",
        "  clusters   =  get_cluster(data,centroides)\n",
        "  new_centroides = return_new_centroide(clusters, data,k)\n",
        "  print(\"old\", centroides)\n",
        "  print(\"new\", new_centroides)\n",
        "  while(distancia_promedio_centroides(centroides, new_centroides) > umbral):\n",
        "     print(\"CENTROIDES\", centroides,distancia_promedio_centroides(centroides, new_centroides))\n",
        "     centroides = new_centroides\n",
        "     clusters   =  get_cluster(data,centroides)\n",
        "     new_centroides = return_new_centroide(clusters, data,k)\n",
        "\n",
        "  return new_centroides, clusters\n"
      ]
    },
    {
      "cell_type": "code",
      "execution_count": null,
      "metadata": {
        "id": "Cw_0mu-1Qjo4"
      },
      "outputs": [],
      "source": [
        "from  matplotlib.pyplot import imshow\n",
        "# A cada imagen le corresponde un único valor de cluster, y a cada cluster se le asigna un color. Luego, grafique la imagen\n",
        "# recoloreando los píxeles según el cluster al que pertenecen.\n",
        "def Show_Imagen(imagen, cluster):\n",
        " # write your code here\n",
        " pass"
      ]
    },
    {
      "cell_type": "code",
      "execution_count": null,
      "metadata": {
        "id": "bo_WvKuHpkG_"
      },
      "outputs": [],
      "source": [
        "from PIL import Image\n",
        "import requests\n",
        "from io import BytesIO\n",
        "\n",
        "url=\"https://media.sciencephoto.com/image/c0269954/800wm\"\n",
        "response = requests.get(url)\n",
        "img = Image.open(BytesIO(response.content))"
      ]
    },
    {
      "cell_type": "code",
      "execution_count": null,
      "metadata": {
        "id": "RaLTvnepq0W9"
      },
      "outputs": [],
      "source": [
        "from requests.models import parse_header_links\n"
      ]
    },
    {
      "cell_type": "markdown",
      "metadata": {
        "id": "vO4FKnpIxACB"
      },
      "source": []
    },
    {
      "cell_type": "code",
      "execution_count": null,
      "metadata": {
        "id": "mlgSC3darnan"
      },
      "outputs": [],
      "source": [
        "#Train\n",
        "np.random.seed(42)\n",
        "new_centroides, clusters = kmeans(dataset, 10, 4.5)"
      ]
    },
    {
      "cell_type": "code",
      "execution_count": null,
      "metadata": {
        "id": "xtcDW4cN2Ynq"
      },
      "outputs": [],
      "source": [
        "print(clusters.shape)\n",
        "Show_Imagen(img, clusters)"
      ]
    }
  ],
  "metadata": {
    "colab": {
      "provenance": []
    },
    "kernelspec": {
      "display_name": "Python 3",
      "name": "python3"
    },
    "language_info": {
      "codemirror_mode": {
        "name": "ipython",
        "version": 3
      },
      "file_extension": ".py",
      "mimetype": "text/x-python",
      "name": "python",
      "nbconvert_exporter": "python",
      "pygments_lexer": "ipython3",
      "version": "3.9.12"
    }
  },
  "nbformat": 4,
  "nbformat_minor": 0
}
