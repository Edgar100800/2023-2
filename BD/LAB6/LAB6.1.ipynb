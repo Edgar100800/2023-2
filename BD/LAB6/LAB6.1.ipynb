{
 "cells": [
  {
   "cell_type": "markdown",
   "metadata": {},
   "source": [
    "# Laboratorio 6.1: Modelo Booleano con Matrices de Incidencia"
   ]
  },
  {
   "cell_type": "code",
   "execution_count": 80,
   "metadata": {},
   "outputs": [],
   "source": [
    "import pandas as pd"
   ]
  },
  {
   "cell_type": "markdown",
   "metadata": {},
   "source": [
    "Guardamos todos los stopwords en un set para poder hacer la búsqueda de manera más eficiente. Con los stopwords nos encargamos de tener todas las palabras que no tienen información relevante para la búsqueda en los documentos."
   ]
  },
  {
   "cell_type": "code",
   "execution_count": 81,
   "metadata": {},
   "outputs": [
    {
     "name": "stdout",
     "output_type": "stream",
     "text": [
      "{'emplear', 'o', 'vosotros', 'podría', 'realizar', 'nuevas', 'hicieron', 'partir', 'unos', 'habían', 'sino', 'usted', 'han', 'sabe', 'estas', 'mucha', 'aquel', 'ellas', 'podriamos', 'bajo', 'misma', 'según', 'pueda', 'sabemos', 'de', 'sabes', 'nueva', 'modo', 'nosotros', 'estos', 'seis', 'dijo', 'buenos', 'ninguno', 'eran', 'consideró', 'sigue', 'ir', 'mismas', 'consigo', 'vamos', 'primeros', 'cinco', 'tenía', 'total', 'poder', 'empleais', 'nuestras', 'posible', 'manifestó', 'veces', 'cuenta', 'debe', 'quiere', 'su', 'tercera', 'tendrán', 'consiguen', 'he', 'parte', 'realizó', 'ahora', 'podrian', 'alguno', 'pocas', 'toda', 'una', 'ellos', 'tres', 'del', 'desde', 'considera', 'muy', 'varios', 'hacer', 'estaban', 'nunca', 'momento', 'serán', 'muchos', 'estar', 'ex', 'haya', 'vaya', 'podemos', 'indicó', 'trabajamos', 'hacia', 'sean', 'explicó', 'lo', 'junto', 'en', 'algo', 'parece', 'cuatro', 'este', 'les', 'ningunas', 'bueno', 'cuanto', 'esa', 'encuentra', 'intentamos', 'informó', 'donde', 'podriais', 'quedó', 'soy', 'dado', 'trata', 'yo', 'gueno', 'para', 'sólo', 'fue', 'diferente', 'pasada', 'sobre', 'última', 'último', 'emplean', 'hacemos', 'hacerlo', 'por qué', 'manera', 'estaba', 'esos', 'cual', 'ninguna', 'nosotras', 'ningún', 'va', 'después', 'aproximadamente', 'porque', 'igual', 'ese', 'las', 'tener', 'hay', 'intentais', 'valor', 'puedo', 'esto', 'conocer', 'más', 'sería', 'ejemplo', 'vais', 'eres', 'ante', 'que', 'varias', 'el', 'estais', 'podrían', 'además', 'unas', 'existe', 'llegó', 'expresó', 'sido', 'intenta', 'usar', 'otras', 'propia', 'hecho', 'él', 'cerca', 'éste', 'sabeis', 'todavía', 'uno', 'respecto', 'intentar', 'casi', 'la', 'somos', 'a', 'hacen', 'todo', 'saben', 'ello', 'tal', 'atras', 'cada', 'siete', 'tengo', 'con', 'mediante', 'ciertas', 'ciertos', 'e', 'empleo', 'si', 'teneis', 'trabajais', 'consigues', 'estuvo', 'nada', 'debido', 'pues', 'mi', 'trabajas', 'trabajar', 'no', 'fin', 'buena', 'tiene', 'apenas', 'usais', 'comentó', 'estará', 'entre', 'queremos', 'algún', 'pasado', 'tenga', 'trabajo', 'hace', 'diferentes', 'segunda', 'le', 'sí', 'aún', 'eras', 'incluso', 'usan', 'siempre', 'usas', 'cosas', 'buen', 'verdad', 'aquellos', 'cualquier', 'nuevos', 'hasta', 'saber', 'estoy', 'alguna', 'alrededor', 'y', 'qué', 'hubo', 'al', 'podrias', 'éstas', 'haber', 'dejó', 'fuimos', 'pesar', 'próximo', 'eso', 'cierto', 'ésta', 'deben', 'hoy', 'solamente', 'propias', 'mencionó', 'mismo', 'van', 'bastante', 'mio', 'tras', 'adelante', 'son', 'tienen', 'ha', 'los', 'también', 'próximos', 'otros', 'sea', 'tuvo', 'esta', 'ver', 'primera', 'había', 'decir', 'cuales', 'vosotras', 'quien', 'contra', 'sin', 'dos', 'ultimo', 'afirmó', 'tan', 'como', 'otro', 'pero', 'ambos', 'aseguró', 'sola', 'pocos', 'poca', 'están', 'embargo', 'aunque', 'conseguir', 'otra', 'haciendo', 'solo', 'largo', 'poner', 'estado', 'arriba', 'tiempo', 'nadie', 'hizo', 'haceis', 'entonces', 'ningunos', 'luego', 'actualmente', 'por', 'dicho', 'llevar', 'ni', 'usamos', 'todas', 'buenas', 'dio', 'puede', 'era', 'últimos', 'siguiente', 'empleas', 'agregó', 'tampoco', 'tanto', 'se', 'aqui', 'añadió', 'tenido', 'encima', 'lleva', 'dice', 'creo', 'mejor', 'hemos', 'vez', 'lugar', 'propio', 'segundo', 'usa', 'estan', 'hago', 'grandes', 'quienes', 'realizado', 'cuando', 'esas', 'algunos', 'pudo', 'ser', 'así', 'podrán', 'mismos', 'anterior', 'quién', 'ella', 'propios', 'solos', 'está', 'pueden', 'gran', 'haces', 'fuera', 'dan', 'uso', 'podeis', 'nuevo', 'voy', 'éstos', 'aquí', 'muchas', 'señaló', 'antes', 'sois', 'trabaja', 'dicen', 'primer', 'lado', 'dieron', 'cierta', 'fui', 'es', 'verdadera', 'consigue', 'podrá', 'tenemos', 'cómo', 'algunas', 'aquellas', 'intentas', 'verdadero', 'trabajan', 'demás', 'será', 'bien', 'través', 'nuestra', 'dentro', 'estamos', 'un', 'habrá', 'poco', 'principalmente', 'nos', 'primero', 'ya', 'podria', 'ampleamos', 'ayer', 'todos', 'siendo', 'mientras', 'tuyo', 'mucho', 'dar', 'conseguimos', 'me', 'intentan', 'eramos', 'durante', 'menos', 'tendrá', 'nuestro', 'dijeron', 'ocho', 'solas', 'nuestros', 'mayor', 'existen', 'ahí', 'da', 'últimas', 'intento', 'sus', 'fueron'}\n"
     ]
    }
   ],
   "source": [
    "stoplist_words = set()\n",
    "with open('stoplist.txt', 'r') as archivo_stoplist:\n",
    "    for palabra in archivo_stoplist:\n",
    "        stoplist_words.add(palabra.strip())\n",
    "\n",
    "print(stoplist_words)"
   ]
  },
  {
   "cell_type": "markdown",
   "metadata": {},
   "source": [
    "Primero definimos una lista llamada libros que contiene los nombres de archivos de texto que se procesarán. Posteriormente, creamos un conjunto vacío llamado conjunto_total para almacenar todas las palabras únicas encontradas en los libros. También inicializamos una lista vacía llamada conjuntos_libros para almacenar conjuntos individuales de palabras para cada libro.\n",
    "\n",
    "Consecuentemente, con un bucle for iteramos cada libro en la lista libros y en la que en cada iteración inicializamos un conjunto temporal llamado temp para almacenar palabras únicas dentro del libro actual. Luego, abrimos el archivo del libro en modo lectura para iterar a través de cada línea en el archivo y dividir en palabras utilizando linea.split(). Luego, recorremos las palabras resultantes. Posteriormente, para cada palabra, eliminamos cualquier signo de puntuación y verificamos si la palabra en minúsculas no está en una lista llamada stoplist_words. Si no está en esa lista, agregamos a conjunto_total y al conjunto temporal temp. Una vez procesadas todas las palabras en el libro, el conjunto temporal temp se agrega a la lista conjuntos_libros.\n",
    "\n",
    "Después de procesar todos los libros, creamos una matriz llamada matriz que contendrá una representación binaria de la presencia o ausencia de cada palabra en cada libro. También creamos un diccionario llamado matriz2 para mapear cada palabra a su representación binaria en la matriz.\n",
    "\n",
    "Posteriormente, iteramos por cada palabra en el conjunto total de palabras conjunto_total para que en cada iteración agreguemos la palabra a una lista temporal temp. Luego, inicializamos una cadena temporal tempbool para representar la fila binaria de la matriz correspondiente a la palabra actual.\n",
    "\n",
    "Finalmente, iteramos a través de cada conjunto de palabras en conjuntos_libros. Si la palabra está presente en el conjunto de palabras de un libro, agregamos \"1\" a la lista temporal y a la cadena temporal tempbool. De lo contrario, agregamos \"0\". Por ultimo, agregamos la lista temporal a la matriz matriz y se guarda la cadena temporal tempbool en el diccionario matriz2 con la palabra como clave.\n"
   ]
  },
  {
   "cell_type": "code",
   "execution_count": 82,
   "metadata": {},
   "outputs": [
    {
     "name": "stdout",
     "output_type": "stream",
     "text": [
      "{'habitaba': '000010', 'quedando': '001000', 'desatando': '000100', 'obras': '000001', 'apoyo': '000010', 'deseo': '100000', 'Halbarad': '000010', 'Tumularios': '100000', 'lucha': '000111', 'cayendo': '000010', 'retractara': '001000', '«Señor': '001000', 'descubren': '000100', 'saliendo': '000010', 'permitieran': '000100', 'producido': '000001', 'drúedain': '000010', 'convirtió': '000001', 'informado': '100000', 'marchaban': '000100', 'Galen': '011010', 'transmiten': '000010', 'protegía': '001000', 'Harlond': '000010', 'Moria': '010100', 'aprovechando': '001000', 'desaparecer': '000100', 'clima': '010000', 'círculo': '000010', 'sufriendo': '001000', 'caía': '010000', 'reino': '000100', 'reaparece': '000001', 'ocasionando': '100000', 'arrastrados': '100000', 'imposible': '000010', 'presentan': '000010', 'asemeja': '000100', 'locura': '000010', 'Boromir': '011010', 'personaje': '100000', 'lanzó': '000010', 'comitiva': '001001', 'acampar': '000010', 'encuentran': '101111', 'senescal': '000011', 'discusión': '100000', 'comienzo': '000010', 'victoria': '000010', 'Lengua': '000001', 'esquivarlos': '010000', 'regreso': '000001', 'águilas': '000001', 'hija': '000001', 'salvarse': '100000', 'puerto': '000010', 'desaparece': '000100', 'Bombadil': '100001', 'misión': '000110', 'millas': '000010', 'continuar': '000100', 'peligro': '011000', 'Balin': '010000', 'codicia': '000001', 'III': '001000', 'esperaban': '000001', 'completo': '001000', 'noticias': '001000', 'mitad': '000001', 'oponente': '001000', 'viajeros': '000100', 'invisible': '000001', 'perecido': '001000', 'decisión': '100000', 'usado': '010100', 'acude': '100010', 'mágico': '100000', 'siguiendo': '010000', 'obliga': '001100', 'síntomas': '000010', 'trae': '000010', 'enemigos': '000101', 'protegerlos': '010000', 'penetraba': '000010', 'traza': '100000', 'formando': '010000', 'recibe': '000010', 'quedan': '000010', 'Tirith': '011111', 'mostrar': '000010', 'deseando': '010000', 'servicios': '000010', '(menos': '001000', 'bajan': '000010', 'siguiéndolos': '000100', 'abismo': '010000', 'visiones': '001000', 'asusta': '000010', 'dirigieron': '000001', 'senescalía': '010000', 'paz': '100000', 'cercano': '010000', 'contó': '010000', 'flota': '000010', 'Dínen': '000010', 'Cirith': '000101', 'llamado': '110011', 'movilización': '000010', 'Barad-dûr': '001000', 'alerta': '100000', 'Lothlórien': '010000', 'amigos': '111000', 'pronunciado': '100000', 'hombres': '000010', 'perdido': '100000', 'acabó': '100000', 'pasar': '110000', 'planeando': '000100', 'Pippin': '111011', 'reencontrarse': '001000', 'Frontera': '000001', 'rohirrim': '000010', 'llevando': '100000', 'Sammath': '000001', 'capítulos': '001000', 'obra': '100000', 'custodiándola': '000100', '(una': '001000', 'viaje': '110111', 'casa': '101000', 'acontecimientos': '011000', 'cansancio': '001000', 'decidieron': '010000', 'aire': '000001', 'miembros': '010001', 'fuerzas': '001010', 'guarde': '100000', 'convocan': '000010', 'dolorosa': '000001', 'tratar': '000010', 'pueblo': '010000', 'oye': '000100', 'atención': '000010', 'Gwaihir': '000001', 'reveló': '010000', 'regresó': '010000', 'Folde': '001000', 'dejar': '100000', 'busca': '110111', 'harán': '001000', 'traicionada': '000100', 've': '000100', 'sitio': '000010', 'visita': '000010', 'casos': '000010', 'órdenes': '000001', 'cubrió': '000010', 'Batalla': '001001', 'relatan': '001000', 'montó': '000010', 'Helm': '001000', 'siguiera': '010000', 'influencia': '001000', 'ende': '001000', 'hijo': '000010', 'rumbo': '000001', 'Rojo': '000001', 'inconsciencia': '000100', 'Echor': '000010', 'niega': '001000', 'físicamente': '000001', 'iniciaron': '000001', 'dunlendinos': '000001', 'mantener': '001000', 'escaramuza': '000100', 'experiencias': '001000', 'encontró': '110000', 'suman': '000010', 'sobrina': '000010', 'príncipe': '010000', 'pusieron': '000001', 'Círdan': '000001', 'poderoso': '010000', 'tendón': '000010', 'meses': '010000', 'destruyeron': '001000', 'Túmulos': '100000', 'ariete': '000010', 'Gríma': '001000', 'confluyen': '001000', 'intrigado': '001000', 'recorrido': '000100', 'escena': '000010', 'Afortunadamente': '000100', 'divide': '001000', 'Finalizada': '000010', 'parada': '100000', 'invasores': '000001', 'acompañado': '000001', 'balrog': '010000', 'sendero': '000011', 'acuden': '100000', 'tomar': '000110', 'envía': '000010', 'mordisco': '000001', 'desconcierto': '000001', 'noche': '100000', 'raza': '000010', 'capitán': '000100', 'defenderse': '100000', 'cobijo': '010000', 'entrar': '000110', 'emprende': '000100', 'mal': '010000', 'paso': '010101', '«escalera': '000100', 'librarse': '000010', 'Fangorn': '001000', 'encargó': '010000', 'tortura': '001000', 'heredero': '010000', 'jefe': '000010', 'Saneamiento': '000001', 'reunirse': '100000', 'dedo': '000001', 'pies': '010001', 'minas': '010000', 'seguían': '000001', 'lago': '010000', 'descubiertos': '000100', 'Minas': '011111', 'estalla': '000001', 'discurso': '100000', 'herencia': '100000', 'fuego': '000100', 'enviada': '000010', 'maldición': '000010', 'negaba': '100000', 'araña': '000100', 'ciudad': '011010', 'inicia': '000010', 'Orthanc': '001001', 'llamada': '010000', 'producto': '100000', 'gigantesco': '000010', 'descubierto': '100000', 'fuegos': '010000', 'quería': '010000', 'herido': '000010', 'negarse': '000011', 'Isen': '000010', 'Nubladas': '010000', 'apresados': '001000', 'enviar': '000010', 'borde': '000001', 'Elrohir': '000010', 'existencia': '000100', 'sitiar': '000010', 'inició': '010000', 'ejercía': '001000', 'atrapados': '100000', 'incorporados': '000001', 'convertido': '001000', 'tiende': '100000', 'parten': '101111', 'caballo': '100010', 'camino': '010111', 'obligada': '010000', 'lava': '000001', 'acción': '001000', 'convencer': '010000', 'incluyendo': '000010', 'Orodruin': '010001', 'grupo': '000100', 'luchar': '000010', 'interior': '001000', 'puso': '110000', 'tumba': '010000', 'resistencia': '000010', 'Naur': '000001', 'Elfos': '000001', 'disfrutan': '001000', 'aventuras': '000001', 'continúen': '000100', 'enterándose': '001000', 'Dernhelm': '000010', 'quitándoselo': '001000', 'valle': '000100', 'sabios': '100000', 'replegarse': '001000', 'reconstrucción': '000001', 'estarían': '010000', 'destino': '100000', 'seguir': '001000', 'tomada': '000001', 'Concilio': '010000', 'gratitud': '000010', 'enfrentándose': '000010', 'Bárbol': '001001', 'Eregion)': '010000', 'arrastró': '010000', 'Ent': '001000', 'recibir': '000001', 'encerró': '010000', 'marcharse': '000001', 'oírse': '010000', 'Acebeda': '010000', 'Éomer': '001011', 'campamento': '001000', 'amo': '010101', 'Sam': '011101', 'internarse': '001000', 'partió': '110000', 'jinete': '000010', 'golpe': '000010', 'ordenó': '010000', 'cabalgan': '000010', 'Gandalf)': '001000', 'Galadriel': '010011', 'estocada': '000010', 'Bilbo': '100001', 'pueblos': '010000', 'látigo': '010000', 'darse': '000001', 'ucorno': '100000', 'muere': '001010', 'sol': '000010', 'mano': '000001', 'dirigen': '001010', 'allí': '110011', 'Isengard': '011000', 'Arwen': '000001', 'Previo': '001000', 'compañía': '000010', 'contradicciones': '000100', 'acababa': '100000', 'debía': '010000', 'huellas': '001000', 'montaña': '010001', 'vuelva': '000100', 'definir': '001000', 'Delagua': '000001', 'conocido': '000010', 'integrada': '001000', 'canción': '100000', 'debían': '000010', 'partiendo': '000010', 'Frodo': '111111', 'tomado': '000010', 'acompañar': '010000', 'montaraces': '000110', 'cota': '000001', 'batidores': '000010', 'humillaciones': '000001', 'condujeron': '010000', 'problema': '000010', 'mes': '010001', 'noticia': '100000', 'despedida': '000001', 'acompañaran': '000010', 'exterior': '001000', 'espada': '000010', 'decidirían': '100000', 'darle': '001000', 'destruyera': '010000', 'sorpresa': '001000', 'Grond': '000010', 'comunicado': '001000', 'puerta': '010000', 'derrotar': '011000', 'preso': '010000', 'Orcos': '001101', 'negaron': '000001', 'involuntariamente': '001000', 'cazadores': '001000', 'enemigo': '010010', 'contárselo': '010000', 'amenazas': '000100', 'Aragorn': '111011', 'comenzaron': '010000', 'Elladan': '000010', 'armas': '100000', 'Sendero': '000010', 'aniquilado': '010000', 'puesto': '001010', 'elfo': '110000', 'malherido': '000010', 'reencontró': '000001', 'conoció': '000001', 'perseguidos': '100000', 'ataca': '000010', 'salva': '100000', 'cumpleaños': '100000', 'Frente': '001000', 'cuesta': '000001', 'lanceros': '000010', 'logran': '100001', 'estorbo': '000010', 'haberse': '100001', 'creó': '010000', 'comentar': '000100', 'Sombragrís': '000010', 'rey': '000011', 'inútil': '000001', 'huye': '000010', 'escuchado': '010000', 'Legolas': '011010', 'tratarían': '010000', 'actos': '001000', 'malherida': '000100', 'Samsagaz': '100000', 'élficas': '010000', 'Campos': '100010', 'Pelennor': '000010', 'Gollum': '100101', 'años': '100000', 'Saruman': '011001', 'demandaba': '000010', 'Gamos': '100000', 'numerosos': '010000', 'arrebatárselo': '100000', 'bosque': '011010', 'dispusieron': '000010', 'acompañó': '000001', 'niebla': '100000', 'concilio': '010000', 'veneno': '000100', 'Negro': '010010', 'agua': '010000', 'huida': '001000', 'veloz': '000010', 'sale': '000010', 'fiesta': '100000', 'hiriendo': '100000', 'Parth': '011010', 'Palantir': '001000', 'arrojar': '010000', 'decide': '000110', 'cena': '000010', 'capital': '001000', 'Media': '010000', 'gigante': '000100', 'espesa': '000010', 'aparecer': '000100', 'terreno': '000100', 'preparar': '001100', 'peso': '000001', 'arrojarlo': '000001', 'Bruinen': '100000', 'apresura': '001000', 'Sagrario': '000010', 'Hobbits': '001000', 'señal': '000010', 'Gladios': '100000', 'vado': '100000', 'Bree': '100000', 'descansando': '010000', 'fatigas': '001000', 'Monte': '000001', 'llega': '000101', 'arrebatado': '100000', 'Hen': '010000', 'Puertas': '001000', 'cruzarlas': '010000', 'habiendo': '000010', 'territorio': '001000', 'alegría': '000001', 'ayudara': '001000', 'mundo': '001000', '(la': '010000', 'dejarle': '001000', 'atravesar': '010100', 'Hálito': '000010', 'plan': '100000', 'intención': '001010', 'llevara': '010010', 'oportunidad': '001000', 'Torre': '000100', 'refugiarse': '001000', 'encuentro': '000010', 'continuara': '000001', 'combatirles': '100000', 'descubre': '001000', 'funeraria': '000010', 'rescate': '000001', 'Rey': '101111', 'ocurrir': '000100', 'regresa': '100010', 'información': '100000', 'acaba': '100110', 'Nob': '100000', 'Légolas': '001000', 'custodia': '001100', 'enloquecido': '000010', 'convincentes': '000100', 'encontraron': '000001', 'viajan': '000001', 'pretexto': '100000', 'cruzando': '010000', 'encontrara': '010000', 'agotamiento': '000001', 'atrapado': '001000', 'salvo': '001000', 'Denethor': '000010', 'flecha': '000010', 'rescatados': '000001', 'treintena': '001000', 'matándose': '000001', 'cumplir': '000010', 'matar': '000001', 'hermanos': '010000', 'Oeste': '011001', 'curso': '010000', 'desapareció': '100000', 'guerreros': '000001', 'cuantos': '010000', 'sienta': '000100', 'vuelve': '000110', 'cansado': '000001', 'retuvo': '010000', 'Mortuoria': '000010', 'pudieran': '100000', 'prados': '010000', 'señor': '010000', 'aconseja': '001000', 'hora': '000010', '\"amo\"': '000100', 'gravedad': '100000', 'Mazarbul': '010000', 'liberan': '001000', 'flechazos': '000001', 'Khazad': '010000', 'disponía': '000010', 'Ungol': '000101', 'Accidentalmente': '100000', 'salieron': '010000', 'reflexionar': '010000', 'Théoden': '001011', 'Compañía': '000101', 'llegada': '001000', 'juramento': '000010', 'inmovilizado': '000100', 'obstante': '000010', 'cara': '000010', 'Éowyn': '000011', 'ascendiendo': '000001', 'monstruo': '010000', 'salir': '100100', 'enseñó': '100000', 'muerte': '010111', 'esperaba': '000010', 'vuelta': '010010', 'tambores': '010000', 'Edoras': '001011', 'trepar': '000001', 'ojos': '000100', 'historias': '001000', 'Senescales': '000010', 'persiguen': '100000', 'sexto': '000010', 'barcos': '000010', 'atacada': '010000', 'Blanco': '001000', 'Reino': '001000', 'Anillo': '110101', 'separación': '001100', 'exánime': '000001', 'seguía': '010000', 'sirvientes': '001000', 'desayuno': '001000', 'Faramir': '000111', 'despiertan': '000001', 'quitarle': '010000', 'congéneres': '001000', 'Isildur': '100010', 'río': '110010', 'quedado': '100000', 'intentó': '010000', 'partida': '100000', 'amigo': '100000', 'Gamyi': '100000', 'pedir': '010000', 'celebración': '110000', 'sirviente': '001000', 'capturado': '000100', 'nube': '000010', 'montañas': '010000', 'ponen': '000100', 'dirigía': '000010', 'abierto': '000010', 'orcos': '010011', 'metros': '000100', 'curación': '010000', 'Póney': '100000', 'Morgai': '000100', 'yendo': '000100', 'derribada': '000010', 'Lindes': '001000', 'personalidad': '000100', 'justo': '000110', 'adentrarse': '100000', 'Destino': '000001', 'detener': '000010', 'llamas': '000001', 'dejado': '000001', 'Merry': '111011', 'desfiladero': '000100', 'tropa': '000001', 'arroja': '001000', 'Señor': '100000', 'evitar': '100000', 'comenzó': '000010', 'guardar': '001000', 'escribiendo': '000001', 'libre': '000100', 'presencia': '000100', 'derrotaron': '001000', 'acudió': '100000', 'Mago': '001000', 'héroes': '000001', 'lobos': '010000', 'consumiendo': '000001', 'mil': '000010', 'Montañas': '010000', 'Gandalf': '111011', 'Puerta': '010111', 'Abismo': '001000', 'tema': '010000', 'casó': '000001', 'vencer': '001000', 'consiguiendo': '000100', 'cantar': '100000', 'dudas': '100000', 'apareció': '010000', 'Rohan': '011011', 'ofreciéndole': '000010', 'momentos': '000001', 'Brunas': '000001', 'gracias': '100100', 'quedaron': '100000', 'rompieron': '000010', 'tamaño': '000010', 'principal': '100000', 'deshecho': '000001', 'ayudándolos': '001000', 'Rammas': '000010', 'Cerrado': '100001', 'Drúadan': '000010', 'año': '000001', 'perseguirles': '001000', 'Nazgûl': '110011', 'escapado': '000100', 'brazo': '000010', 'dormían': '001000', 'emisario': '000010', 'atacan': '100000', 'montado': '100000', 'contraatacar': '000001', 'acompañados': '100010', 'veinte': '100000', 'Umbar': '000010', 'sentados': '001000', 'informa': '001010', 'dúnadan': '000010', 'Muil': '000100', 'previsto': '000001', 'Bosque': '111011', 'encerrado': '001000', 'asentado': '010000', 'disponían': '000010', 'Disfrazados': '000001', 'Morgul': '000100', 'llevan': '001000', 'convenciéndole': '100000', 'asistieron': '000001', 'obligado': '000010', 'Caradhras': '010000', 'Dûm': '010000', 'Baran': '001000', 'mirada': '001000', 'Ciénaga': '000100', 'batalla': '001010', 'Orcos)': '001000', 'Mariscal': '001000', 'misterioso': '100000', 'recuperado': '000001', 'Gracias': '100010', 'aldea': '100000', 'marcha': '000101', 'Libro': '000001', 'finalmente': '000100', 'preparan': '001000', 'Ghân-buri-Ghân': '000010', 'asamblea': '001000', 'ropas': '001000', 'retirarse': '000010', 'ocultándole': '000010', 'yelmo': '000010', 'obsesionada': '000100', 'siguió': '010000', 'ejército': '001010', 'visitar': '000001', 'inconsciente': '000001', 'Gimli': '011010', 'gravemente': '000010', 'alcanzados': '010000', 'Éored': '001000', 'fracasa': '000010', 'ocurridos': '010010', 'derrotando': '000001', 'informar': '100000', 'Asfaloth': '100000', 'consejo': '010110', 'comida': '000100', 'representantes': '010000', 'orilla': '010000', 'Celeborn': '010000', 'Desastre': '100000', 'cae': '000001', 'reúne': '000010', 'logra': '000010', 'llegar': '111111', 'muertos': '000010', 'funeral': '000001', 'estrategia': '001000', 'traba': '000010', 'cogió': '010000', 'salida': '000100', 'perdidos': '100000', 'Casa': '000010', 'defensa': '011000', 'destruido': '010000', 'cargado': '000001', 'grieta': '000001', 'oculta': '000010', 'decidiría': '010000', 'Tom': '100001', 'sorprendidos': '100010', 'anular': '000001', 'entregó': '000001', 'apartó': '010000', 'deciden': '101110', 'desafortunada': '001000', 'sur': '000010', 'Comarca': '100001', 'identidad': '000010', 'Grises': '000001', 'hobbits': '111101', 'Muertos': '000110', 'oportuna': '001000', 'recuperarse': '000001', 'descarga': '000010', 'rescatar': '001110', 'Harad': '000100', 'Sarn': '010000', 'pensando': '001000', 'tomó': '000010', 'tomaron': '000011', 'voluntad': '000001', 'tumularias': '100000', 'hobbit': '111100', 'corriente': '100000', 'grupa': '000010', 'Uruk-hai': '001000', 'campo': '001010', 'leyes': '000100', 'ropajes': '000011', 'tranquilidad': '100000', 'Amon': '110000', 'apagado': '000100', 'roja': '000010', 'retroceder': '000010', 'desviar': '000010', 'condiciones': '000010', 'anillo': '100000', 'rematar': '000010', 'Cámara': '010000', 'prefijada': '001000', 'lomos': '000010', 'coronación': '000001', 'derrotado': '000001', 'sucesos': '000010', 'convoca': '001000', 'intervención': '000100', 'Arnor': '100000', 'diálogo': '001000', 'oscuro»': '001000', 'Pisador»': '100000', 'escapar': '111001', 'llegaron': '010010', 'unión': '000001', 'objeto': '001100', 'Gondor': '011011', 'barco': '000001', 'representa': '001000', 'señores': '010000', 'supondría': '000010', 'días': '100111', 'Torech': '000100', 'encontrado': '100000', 'partes': '001000', 'enfrentó': '010000', 'tarde': '011001', 'Negra': '000111', 'cuerpo': '000111', 'Ents': '001000', 'muriendo': '000001', 'Mordor': '010110', 'escombros': '001000', 'alertado': '000010', 'caminos': '100101', 'día': '101010', 'cuentan': '001000', 'dándoles': '100000', 'aparecieron': '010000', 'imposibilita': '000100', 'sombra': '000010', 'final': '001000', 'tropas': '000110', 'tirith': '000010', 'antigua': '010000', 'llamar': '000010', 'descubrir': '000100', 'Hombre-Sauce': '100000', 'derrotan': '001001', 'recibidos': '001000', 'parecido': '010000', 'Sauron': '111111', 'Bolsón': '100000', 'cosa': '001000', 'Comunidad': '010000', 'argumentos': '000100', 'terminan': '000010', 'escaparse': '001000', 'defender': '001000', 'orillas': '010000', 'región': '000010', 'Rohirrim': '001000', 'reencuentro': '001000', 'arrancándole': '000001', 'mira': '001000', 'deja': '000101', 'ordena': '100000', 'horribles': '001000', 'entran': '000100', 'Ucornos': '001000', 'alternativo': '000010', 'consiguieron': '010000', 'manos': '001000', 'estadía': '000010', 'capitanes': '000010', 'salvados': '100000', 'Pasando': '010000', 'Gebir': '010000', 'inerte': '000100', 'presenciar': '000010', 'jardinero': '100000', 'emprenden': '000101', 'debatirse': '000100', 'kraken': '010000', 'laderas': '000001', 'llevado': '010100', 'Meduseld': '001000', 'enano': '010000', 'norte': '000010', 'nombrado': '000001', 'aprovechan': '000001', 'Brujo': '000110', 'libraban': '000100', 'peripecias': '001000', 'resto': '110100', 'moribundo': '000010', 'ocurrido': '010000', 'cabalgata': '000010', 'acompaña': '100000', 'ayuda': '100011', 'rescaten': '001000', 'toque': '100000', 'fueran': '000010', 'barcas': '010000', 'Grieta': '000001', 'inminencia': '001000', 'hurtadillas': '000100', 'elfos': '010001', 'muerto': '000101', 'quinto': '000010', 'negra': '000010', 'Hobbiton': '000001', 'Emyn': '000100', 'Dol': '001000', 'Allí': '110001', 'invitado': '010000', 'ven': '000010', 'cantidad': '000100', 'mithril': '000001', 'ataque': '001010', 'acaban': '100001', 'puente': '010000', 'traición': '010100', 'enloquecer': '000010', 'alertar': '000100', 'libro': '011000', 'Grima': '000001', 'combinadas': '001000', 'Apenados': '010000', 'llevaba': '010000', 'negativa': '010000', 'Blanca': '001000', 'necesidad': '000010', 'narraba': '010000', 'motivo': '100100', 'acudirían': '010000', 'señales': '001000', 'Pelargir': '000010', 'acabaron': '000001', 'trampa': '100000', 'ponerlo': '001000', 'escondidas': '010000', 'persecución': '001000', 'vividas': '001000', 'atrapan': '000100', 'Oculto': '000100', 'Vados': '000010', 'dispuso': '000010', 'llegan': '100111', 'dejando': '001000', 'logró': '010000', 'aparentemente': '001100', 'sobrino': '100000', 'pira': '000010', 'pago': '000010', 'torre': '001000', 'interpone': '000010', 'continúa': '000001', 'cargo': '000001', 'observando': '000010', 'acercaran': '010000', 'vigilado': '000100', 'luz': '000010', 'terminar': '100000', 'acompañarían': '010000', 'dirigían': '000001', 'despertó': '010001', 'apresuró': '000010', 'mago': '111001', 'Elrond': '110001', 'facilitando': '000001', 'toma': '001010', 'criatura': '100101', 'curioso': '001000', 'celosamente': '001000', 'sabía': '100000', 'Único': '100100', 'ofreció': '010000', 'lograron': '010000', 'trató': '010000', 'liberado': '000010', 'guardaba': '001000', 'distintos': '010001', 'revela': '001010', 'precipitación': '001000', 'lanzan': '000010', 'juntos': '000001', 'Anduin': '110010', 'Rath': '000010', 'vagando': '000100', '111º': '100000', 'Puertos': '000001', 'Imperecederas': '000001', 'conducidas': '000001', 'llevarlo': '010000', 'cientos': '000010', 'Hirgon': '000010', 'Serpiente': '000001', 'suponía': '000100', 'Quebradas': '100000', 'termina': '000011', 'Glorfindel': '100000', 'reponerse': '001000', 'hermana': '000011', 'idea': '000010', 'incapaz': '000001', 'deuda': '000010', 'Sûl': '100000', 'picado': '000100', 'Tierra': '010000', 'trataba': '101000', 'posada': '100000', 'descender': '000100', 'entra': '000110', 'Tierras': '000001', 'quemados': '000010', 'Ella-Laraña': '000100', 'decidir': '010000', 'irse': '100000', 'habrían': '001000', 'ardides': '001000', 'pequeña': '100000', 'maligna': '001000', 'guardián': '010000', 'marchó': '000001', 'pone': '100001', '«El': '100000', 'rechazarlos': '010000', 'tesoro': '000001', 'caballeros': '001000', 'capturados': '110000', 'Rivendel': '110001', 'Mano': '001000', 'recta»': '000100', 'corsarios': '000010', 'voltea': '000010', 'atacados': '010101', 'Haldir': '010000', 'oscuro': '100000', 'guíe': '000100', 'ejércitos': '000010', 'encontrar': '000010', 'culmina': '001000', 'Crinblanca': '000010', 'narración': '001000', 'malla': '000001', 'comienza': '100111', 'vivir': '100000', 'medio': '001001', 'enorme': '000100', 'Ithilien': '000101', 'destruyéndose': '000001', 'ascender': '000100', 'apoderarse': '000001', 'Días': '010001', 'defraudada': '000100', 'acudir': '000001', 'acompañarle': '100000', 'descuido': '000100', 'servidores': '100000', 'Viejo': '100001', 'produce': '001000', 'abajo': '000001', 'repliegue': '001000', 'huir': '010101', 'vio': '010010'}\n"
     ]
    }
   ],
   "source": [
    "libros = [\"libro1.txt\", \"libro2.txt\", \"libro3.txt\", \"libro4.txt\", \"libro5.txt\", \"libro6.txt\"]\n",
    "\n",
    "conjunto_total = set()  # Utiliza set() para crear un conjunto vacío\n",
    "conjuntos_libros = []\n",
    "\n",
    "for libro in libros:\n",
    "    temp = set()\n",
    "    with open(libro, 'r') as archivo:\n",
    "        for linea in archivo:\n",
    "            palabras = linea.split()\n",
    "            for palabra in palabras:\n",
    "                if palabra[-1] in [\".\", \",\", \":\", \";\", \"?\", \"!\", \"¡\", \"¿\"]:\n",
    "                    palabra = palabra[:-1]\n",
    "                if palabra.lower() not in stoplist_words:\n",
    "                    conjunto_total.add(palabra)\n",
    "                    temp.add(palabra)\n",
    "    conjuntos_libros.append(temp)\n",
    "\n",
    "                \n",
    "matriz = []\n",
    "matriz2 = {}\n",
    "temp = []\n",
    "for palabra in conjunto_total:\n",
    "    temp.append(palabra)\n",
    "    tempbool = \"\"\n",
    "    for libro in conjuntos_libros:\n",
    "        if palabra in libro:\n",
    "            temp.append(\"1\")\n",
    "            tempbool += \"1\"\n",
    "        else:\n",
    "            temp.append(\"0\")\n",
    "            tempbool += \"0\"\n",
    "    matriz.append(temp)\n",
    "    matriz2[palabra] = tempbool\n",
    "    temp = []\n",
    "\n",
    "# print(matriz)\n",
    "print(matriz2)\n",
    "df = pd.DataFrame(matriz)\n",
    "df.to_csv(\"matriz.csv\", index=False, header=False)\n",
    "\n"
   ]
  },
  {
   "cell_type": "markdown",
   "metadata": {},
   "source": [
    "## Clase BinaryOperation\n",
    "\n",
    "La clase BinaryOperations permite almacenar consultas y realizar operaciones booleanas. Puedes definir una matriz de datos y una lista de libros asociados. La función L añade palabras a una lista, y las operaciones AND, OR, y NOT trabajan con valores binarios. La función retrieve busca palabras coincidentes en los libros y devuelve resultados."
   ]
  },
  {
   "cell_type": "code",
   "execution_count": 124,
   "metadata": {},
   "outputs": [],
   "source": [
    "class BinaryOperations:\n",
    "    # Constructor\n",
    "    def __init__(self, matriz, libros):\n",
    "        self.matriz = matriz\n",
    "        self.libros = libros\n",
    "        self.palabras = []\n",
    "    \n",
    "    # Retorna el binario de una palabra\n",
    "    def L(self, word):\n",
    "        self.palabras.append(word)\n",
    "        return self.matriz[word]\n",
    "\n",
    "    #Operador de conjunción\n",
    "    @staticmethod\n",
    "    def AND(binario1, binario2):\n",
    "        valor1 = int(binario1, 2)\n",
    "        valor2 = int(binario2, 2)\n",
    "        resultado = valor1 & valor2\n",
    "        resultado_binario = bin(resultado)[2:]\n",
    "        return resultado_binario\n",
    "    \n",
    "    #Operador OR\n",
    "    @staticmethod\n",
    "    def OR(binario1, binario2):\n",
    "        valor1 = int(binario1, 2)\n",
    "        valor2 = int(binario2, 2)\n",
    "        resultado = valor1 | valor2\n",
    "        resultado_binario = bin(resultado)[2:]\n",
    "        return resultado_binario\n",
    "\n",
    "    # Operador de negación\n",
    "    @staticmethod\n",
    "    def NOT(binario1):\n",
    "        resultado_binario = \"\"\n",
    "        for i in binario1:\n",
    "            if i == \"1\":\n",
    "                resultado_binario += \"0\"\n",
    "            else:\n",
    "                resultado_binario += \"1\"\n",
    "        return resultado_binario\n",
    "\n",
    "    # Retorna el parrafo que contiene las palabras de nuestra consulta\n",
    "    def retrieve(self, binary):\n",
    "        count = 0\n",
    "        resultados = []\n",
    "        for i in binary:\n",
    "            count += 1\n",
    "            if i == \"1\":\n",
    "                resultados.append(self.libros[count - 1])\n",
    "        \n",
    "        for libro in resultados:\n",
    "            with open(libro, 'r') as archivo:\n",
    "                for linea in archivo:\n",
    "                    for palabra in self.palabras:\n",
    "                        if palabra in linea:\n",
    "                            print(libro, palabra)\n",
    "                            print(linea)\n",
    "                    \n",
    "            \n",
    "        \n",
    "        return resultados"
   ]
  },
  {
   "cell_type": "code",
   "execution_count": 125,
   "metadata": {},
   "outputs": [],
   "source": [
    "parser = BinaryOperations(matriz2, libros)\n",
    "palabra1 = parser.L(\"Galen\")\n",
    "palabra2 = parser.L(\"desatando\") \n",
    "palabra3 = parser.L(\"obras\")\n",
    "\n",
    "\n",
    "\n",
    "# result = parser.retrieve(parser.OR(parser.AND(palabra1, palabra2),palabra3))\n",
    "# print(result)"
   ]
  },
  {
   "cell_type": "code",
   "execution_count": 126,
   "metadata": {},
   "outputs": [
    {
     "name": "stdout",
     "output_type": "stream",
     "text": [
      "libro2.txt Galen\n",
      "Apenados por la muerte de Gandalf, los miembros de la Comunidad llegaron al bosque de Lothlórien, donde el elfo Haldir y sus hermanos les dieron cobijo y les condujeron hasta Celeborn y Galadriel, los señores del bosque. Tras pasar un mes descansando allí, la Comunidad partió en tres barcas élficas siguiendo el curso del río Anduin. En Sarn Gebir fueron alcanzados por los orcos que Saruman creó en Isengard, pero lograron esquivarlos cruzando a la otra orilla del río. Al llegar a los prados de Parth Galen, a los pies del Amon Hen, Frodo se apartó de los demás para reflexionar sobre si seguía solo el camino hacia Mordor, ya que no quería poner en peligro a sus amigos. Boromir, que llevaba tiempo deseando el Anillo, le siguió y le trató de convencer para que no destruyera el Anillo y lo llevara a su ciudad, Minas Tirith, para que fuera usado en la defensa contra Sauron. Ante la negativa del hobbit, Boromir intentó quitarle el Anillo y Frodo se lo puso para huir de él. Entonces Boromir se dio cuenta de lo que había hecho y regresó junto al resto de la Comunidad para contárselo. Todos salieron en busca de Frodo y Aragorn ordenó a Boromir que siguiera a Merry y a Pippin para protegerlos, mientras él seguía a Sam. Sin embargo, Sam encontró a Frodo a orillas del río y partió con él en una de las barcas antes de que Aragorn les encontrara.\n",
      "libro3.txt Galen\n",
      "Tras la huida de Frodo y Sam en Parth Galen, Boromir muere a manos de los Uruk-hai mientras protegía a Merry y Pippin, los cuales son apresados por los sirvientes de Saruman. Aragorn, Legolas y Gimli deciden entonces perseguirles con el fin de rescatar a los dos hobbits.\n",
      "\n",
      "libro4.txt desatando\n",
      "En Ithilien, y debido a un descuido de Sam, que no había apagado el fuego usado para hacer la comida, Faramir y un grupo de montaraces los atrapan y ponen bajo custodia, mientras libraban una escaramuza con las tropas del Harad. Gollum, que había escapado cuando Frodo y Sam son descubiertos por los montaraces, acaba siendo capturado también ante los ojos de Frodo, hecho que hace que la criatura se sienta defraudada y traicionada por su \"amo\", desatando así, que vuelva a aparecer su personalidad obsesionada con el Anillo. Al descubrir Faramir la existencia del objeto, y por lo tanto, el motivo del viaje, comienza a debatirse en contradicciones sobre qué hacer con él, aunque finalmente y contra las leyes de su reino, el capitán deja libre a los hobbits para que continúen su marcha.\n",
      "\n"
     ]
    },
    {
     "data": {
      "text/plain": [
       "['libro1.txt', 'libro2.txt', 'libro3.txt', 'libro4.txt']"
      ]
     },
     "execution_count": 126,
     "metadata": {},
     "output_type": "execute_result"
    }
   ],
   "source": [
    "parser.retrieve(parser.OR(palabra1, palabra2))"
   ]
  },
  {
   "cell_type": "code",
   "execution_count": 118,
   "metadata": {},
   "outputs": [
    {
     "data": {
      "text/plain": [
       "[]"
      ]
     },
     "execution_count": 118,
     "metadata": {},
     "output_type": "execute_result"
    }
   ],
   "source": [
    "parser.retrieve(parser.AND(palabra1, palabra2))"
   ]
  },
  {
   "cell_type": "code",
   "execution_count": 119,
   "metadata": {},
   "outputs": [
    {
     "name": "stdout",
     "output_type": "stream",
     "text": [
      "libro2.txt Galen\n",
      "Apenados por la muerte de Gandalf, los miembros de la Comunidad llegaron al bosque de Lothlórien, donde el elfo Haldir y sus hermanos les dieron cobijo y les condujeron hasta Celeborn y Galadriel, los señores del bosque. Tras pasar un mes descansando allí, la Comunidad partió en tres barcas élficas siguiendo el curso del río Anduin. En Sarn Gebir fueron alcanzados por los orcos que Saruman creó en Isengard, pero lograron esquivarlos cruzando a la otra orilla del río. Al llegar a los prados de Parth Galen, a los pies del Amon Hen, Frodo se apartó de los demás para reflexionar sobre si seguía solo el camino hacia Mordor, ya que no quería poner en peligro a sus amigos. Boromir, que llevaba tiempo deseando el Anillo, le siguió y le trató de convencer para que no destruyera el Anillo y lo llevara a su ciudad, Minas Tirith, para que fuera usado en la defensa contra Sauron. Ante la negativa del hobbit, Boromir intentó quitarle el Anillo y Frodo se lo puso para huir de él. Entonces Boromir se dio cuenta de lo que había hecho y regresó junto al resto de la Comunidad para contárselo. Todos salieron en busca de Frodo y Aragorn ordenó a Boromir que siguiera a Merry y a Pippin para protegerlos, mientras él seguía a Sam. Sin embargo, Sam encontró a Frodo a orillas del río y partió con él en una de las barcas antes de que Aragorn les encontrara.\n",
      "libro4.txt desatando\n",
      "En Ithilien, y debido a un descuido de Sam, que no había apagado el fuego usado para hacer la comida, Faramir y un grupo de montaraces los atrapan y ponen bajo custodia, mientras libraban una escaramuza con las tropas del Harad. Gollum, que había escapado cuando Frodo y Sam son descubiertos por los montaraces, acaba siendo capturado también ante los ojos de Frodo, hecho que hace que la criatura se sienta defraudada y traicionada por su \"amo\", desatando así, que vuelva a aparecer su personalidad obsesionada con el Anillo. Al descubrir Faramir la existencia del objeto, y por lo tanto, el motivo del viaje, comienza a debatirse en contradicciones sobre qué hacer con él, aunque finalmente y contra las leyes de su reino, el capitán deja libre a los hobbits para que continúen su marcha.\n",
      "\n",
      "libro5.txt Galen\n",
      "Gandalf y Pippin cabalgan hacia Minas Tirith a lomos de Sombragrís y, tras varios días de viaje, llegan a la ciudad y se presentan ante el senescal Denethor. Pippin le cuenta los sucesos ocurridos en Parth Galen, incluyendo la muerte de su hijo, y acaba ofreciéndole sus servicios como pago por la deuda de gratitud hacia Boromir.\n",
      "\n"
     ]
    },
    {
     "data": {
      "text/plain": [
       "['libro1.txt', 'libro2.txt', 'libro4.txt', 'libro5.txt']"
      ]
     },
     "execution_count": 119,
     "metadata": {},
     "output_type": "execute_result"
    }
   ],
   "source": [
    "parser.retrieve(parser.OR(palabra1, palabra3))"
   ]
  }
 ],
 "metadata": {
  "kernelspec": {
   "display_name": "Python 3",
   "language": "python",
   "name": "python3"
  },
  "language_info": {
   "codemirror_mode": {
    "name": "ipython",
    "version": 3
   },
   "file_extension": ".py",
   "mimetype": "text/x-python",
   "name": "python",
   "nbconvert_exporter": "python",
   "pygments_lexer": "ipython3",
   "version": "3.11.4"
  },
  "orig_nbformat": 4
 },
 "nbformat": 4,
 "nbformat_minor": 2
}
