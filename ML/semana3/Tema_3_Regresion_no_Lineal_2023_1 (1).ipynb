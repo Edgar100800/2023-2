{
  "cells": [
    {
      "cell_type": "markdown",
      "metadata": {
        "id": "XrmVSlAAcKh7"
      },
      "source": [
        " # Práctica Guiada 3.\n",
        " ----\n",
        "  \n",
        "  Universidad : UTEC \\\\\n",
        "  Curso       : Inteligencia Artificial \\\\\n",
        "  Profesor    : Cristian López Del Alamo \\\\\n",
        "  Tema        : Regresión Lineal Múltiple \\\\\n",
        "  \n",
        "\n",
        " ----\n"
      ]
    },
    {
      "cell_type": "markdown",
      "metadata": {
        "id": "DFlH9PtJHOHl"
      },
      "source": [
        "\n"
      ]
    },
    {
      "cell_type": "code",
      "execution_count": 1,
      "metadata": {
        "colab": {
          "base_uri": "https://localhost:8080/",
          "height": 392
        },
        "id": "-fZbLdlsloF4",
        "outputId": "13a2af0f-1230-4a1a-f655-1b98e37fa968"
      },
      "outputs": [
        {
          "name": "stdout",
          "output_type": "stream",
          "text": [
            "200\n"
          ]
        },
        {
          "data": {
            "text/plain": [
              "[<matplotlib.lines.Line2D at 0x28dc8dc1550>]"
            ]
          },
          "execution_count": 1,
          "metadata": {},
          "output_type": "execute_result"
        },
        {
          "data": {
            "image/png": "[encoded data removed]",
            "text/plain": [
              "<Figure size 640x480 with 1 Axes>"
            ]
          },
          "metadata": {},
          "output_type": "display_data"
        }
      ],
      "source": [
        "import numpy as np\n",
        "import matplotlib.pyplot as plt\n",
        "\n",
        "x_ds = np.arange (0, 1, 0.005)\n",
        "y_ds = [ np.sin(2*i*np.pi) + np.random.normal(0,0.07) for i in x_ds]\n",
        "print(len(x_ds))\n",
        "plt.plot(x_ds,y_ds,'*')\n"
      ]
    },
    {
      "cell_type": "markdown",
      "metadata": {
        "id": "a_DEtwUxFsLp"
      },
      "source": [
        "Crear el DataSet\n",
        "\n",
        "\n",
        "\n",
        "\n",
        "\n"
      ]
    },
    {
      "cell_type": "markdown",
      "metadata": {
        "id": "DRbGcXmWIaKO"
      },
      "source": [
        "# Modelo\n",
        "\n",
        "\n",
        "$h(x_i) = x_{i}^1w_1 + x_{i}^2w_2 + ... +  x^gw_2 + b$\n",
        "\n"
      ]
    },
    {
      "cell_type": "code",
      "execution_count": 2,
      "metadata": {
        "id": "2NnYyf2oG1Fw"
      },
      "outputs": [],
      "source": [
        "\n",
        "def h(X, W):\n",
        "    return np.dot(X, W)\n",
        "    # write your code here\n"
      ]
    },
    {
      "cell_type": "markdown",
      "metadata": {
        "id": "MHWVdGjbIUna"
      },
      "source": [
        "# Loss function\n",
        "Nota: La función de pérdida no cambia, solo la llamada a la función h\n",
        "$\\mathcal{L} =  ||Y - XW^t||_2^2 + ||W||_2^2 $\n",
        "\n",
        "$\\mathcal{L} = \\frac{1}{2n}\\sum_{i=0}^n (y_i - h(x_i))^2 + \\sum_{i=0}^gw_i^2 $\n",
        "\n"
      ]
    },
    {
      "cell_type": "code",
      "execution_count": 3,
      "metadata": {
        "id": "2FiEbigVG9Hf"
      },
      "outputs": [],
      "source": [
        "def Error(X, W,Y):\n",
        "    return np.sum((h(X, W) - Y)**2)/(2*len(Y))\n",
        "    # write your code here\n",
        "  # write your code here\n"
      ]
    },
    {
      "cell_type": "markdown",
      "metadata": {
        "id": "jV-_CQ87FrdQ"
      },
      "source": [
        "# Cálculo de derivadas\n",
        "Nota: ¿Cómo sería las derivadas respecto a cada parámetro?\n"
      ]
    },
    {
      "cell_type": "code",
      "execution_count": 4,
      "metadata": {
        "id": "0RxT6ee6H8Vn"
      },
      "outputs": [],
      "source": [
        "def derivada(X, W, Y):\n",
        "    return np.dot(X.T,(h(X, W) - Y))/len(Y)\n",
        "    # write your code here\n",
        "\n",
        "\n"
      ]
    },
    {
      "cell_type": "markdown",
      "metadata": {
        "id": "5CRCXMYd6PrX"
      },
      "source": [
        "# Actualiación de parámetros\n",
        "\n",
        "Recuerde: $\\frac{\\partial L}{\\partial w}$ representa un vector con todas las derivadas de la función de pérdida con rescto a W.\n",
        "\n",
        "$W  = W - \\alpha*\\frac{\\partial L}{\\partial W} $\n",
        "\n"
      ]
    },
    {
      "cell_type": "code",
      "execution_count": 5,
      "metadata": {
        "id": "yv06Mc7NJJx6"
      },
      "outputs": [],
      "source": [
        "def update(W, alpha,dw):\n",
        "    return W - alpha*dw\n",
        "    # write your code here\n",
        "\n"
      ]
    },
    {
      "cell_type": "markdown",
      "metadata": {
        "id": "Z7Z5XhYtXYm-"
      },
      "source": [
        "# Training"
      ]
    },
    {
      "cell_type": "code",
      "execution_count": 6,
      "metadata": {
        "id": "HSuPO-XiIjem"
      },
      "outputs": [],
      "source": [
        "def train(X, Y, epochs, alfa,grado):\n",
        "    W = np.random.random(X.shape[1])\n",
        "    L = Error(X,W,Y)\n",
        "    loss = []\n",
        "    for i in range(epochs):\n",
        "        dW = derivada(X, W, Y)\n",
        "        W = update(W,alfa, dW)\n",
        "        L = Error(X, W,Y)\n",
        "        loss.append(L)\n",
        "        if ((i%1000)==0):\n",
        "          print(\"loss value error :\" + str(L))\n",
        "    return W, loss\n",
        "\n",
        "\n",
        "\n",
        "\n"
      ]
    },
    {
      "cell_type": "code",
      "execution_count": 7,
      "metadata": {
        "id": "5DOB3KwCnzfl"
      },
      "outputs": [],
      "source": [
        "# Implemente la función plot para mostrar como cambia la función de pérdida con el número de épocas\n",
        "def plot_loss(epochs_list, loss_list):\n",
        "    plt.plot(epochs_list, loss_list)\n",
        "    plt.xlabel('epochs')\n",
        "    plt.ylabel('loss')\n",
        "    plt.show()\n",
        "    # write your code here"
      ]
    },
    {
      "cell_type": "code",
      "execution_count": 8,
      "metadata": {
        "id": "8HU9PaN0oBsY"
      },
      "outputs": [],
      "source": [
        "# Implemente la función plot para mostrar la función aproximada al conjunto de puntos\n",
        "def plot(X_real, Y_real, Y_aprox):\n",
        "    plt.plot(X_real, Y_real, 'o', label='real')\n",
        "    plt.plot(X_real, Y_aprox, 'r', label='aprox')\n",
        "    plt.xlabel('x')\n",
        "    plt.ylabel('y')\n",
        "    plt.legend()\n",
        "    plt.show()\n",
        "    # write your code here"
      ]
    },
    {
      "cell_type": "code",
      "execution_count": 9,
      "metadata": {
        "id": "s7tj9436hrJ7"
      },
      "outputs": [
        {
          "ename": "NameError",
          "evalue": "name 'X' is not defined",
          "output_type": "error",
          "traceback": [
            "\u001b[1;31m---------------------------------------------------------------------------\u001b[0m",
            "\u001b[1;31mNameError\u001b[0m                                 Traceback (most recent call last)",
            "\u001b[1;32mc:\\Users\\USUARIO\\Desktop\\2023-2\\ML\\semana3\\Tema_3_Regresion_no_Lineal_2023_1 (1).ipynb Cell 17\u001b[0m line \u001b[0;36m2\n\u001b[0;32m      <a href='vscode-notebook-cell:/c%3A/Users/USUARIO/Desktop/2023-2/ML/semana3/Tema_3_Regresion_no_Lineal_2023_1%20%281%29.ipynb#X22sZmlsZQ%3D%3D?line=0'>1</a>\u001b[0m \u001b[39m# No olvide Normalizar\u001b[39;00m\n\u001b[1;32m----> <a href='vscode-notebook-cell:/c%3A/Users/USUARIO/Desktop/2023-2/ML/semana3/Tema_3_Regresion_no_Lineal_2023_1%20%281%29.ipynb#X22sZmlsZQ%3D%3D?line=1'>2</a>\u001b[0m train(X,Y,\u001b[39m1000\u001b[39m,\u001b[39m0.0001\u001b[39m)\n",
            "\u001b[1;31mNameError\u001b[0m: name 'X' is not defined"
          ]
        }
      ],
      "source": [
        "# No olvide Normalizar\n",
        "def normalize(X):\n",
        "    return (X - np.mean(X))/np.std(X)\n",
        "    # write your code here\n",
        "train(X,Y,1000,0.0001)\n"
      ]
    },
    {
      "cell_type": "markdown",
      "metadata": {
        "id": "nis8QDOFXep7"
      },
      "source": [
        "# Testing"
      ]
    },
    {
      "cell_type": "code",
      "execution_count": 10,
      "metadata": {
        "id": "c9T4hkAK6TIW"
      },
      "outputs": [
        {
          "ename": "NameError",
          "evalue": "name 'x' is not defined",
          "output_type": "error",
          "traceback": [
            "\u001b[1;31m---------------------------------------------------------------------------\u001b[0m",
            "\u001b[1;31mNameError\u001b[0m                                 Traceback (most recent call last)",
            "\u001b[1;32mc:\\Users\\USUARIO\\Desktop\\2023-2\\ML\\semana3\\Tema_3_Regresion_no_Lineal_2023_1 (1).ipynb Cell 19\u001b[0m line \u001b[0;36m3\n\u001b[0;32m      <a href='vscode-notebook-cell:/c%3A/Users/USUARIO/Desktop/2023-2/ML/semana3/Tema_3_Regresion_no_Lineal_2023_1%20%281%29.ipynb#X24sZmlsZQ%3D%3D?line=0'>1</a>\u001b[0m \u001b[39m# Change the values of umbral and alpha and try to obtain a good result\u001b[39;00m\n\u001b[1;32m----> <a href='vscode-notebook-cell:/c%3A/Users/USUARIO/Desktop/2023-2/ML/semana3/Tema_3_Regresion_no_Lineal_2023_1%20%281%29.ipynb#X24sZmlsZQ%3D%3D?line=2'>3</a>\u001b[0m W \u001b[39m=\u001b[39m train(x, y, \u001b[39m1000\u001b[39m,  \u001b[39m0.001\u001b[39m)\n",
            "\u001b[1;31mNameError\u001b[0m: name 'x' is not defined"
          ]
        }
      ],
      "source": [
        "# Change the values of umbral and alpha and try to obtain a good result\n",
        "\n",
        "W = train(x, y, 1000,  0.001)\n",
        "\n"
      ]
    }
  ],
  "metadata": {
    "colab": {
      "provenance": []
    },
    "kernelspec": {
      "display_name": "Python 3",
      "name": "python3"
    },
    "language_info": {
      "codemirror_mode": {
        "name": "ipython",
        "version": 3
      },
      "file_extension": ".py",
      "mimetype": "text/x-python",
      "name": "python",
      "nbconvert_exporter": "python",
      "pygments_lexer": "ipython3",
      "version": "3.11.4"
    }
  },
  "nbformat": 4,
  "nbformat_minor": 0
}
