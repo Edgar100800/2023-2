{
  "cells": [
    {
      "cell_type": "markdown",
      "metadata": {
        "id": "uM9XJw5ICgjr"
      },
      "source": [
        " # Práctica  4.\n",
        " ----\n",
        "  \n",
        "  Universidad : UTEC \\\\\n",
        "  Curso       : Inteligencia Artificial \\\\\n",
        "  Profesor    : Cristian López Del Alamo \\\\\n",
        "  Tema        : Soft SVM \\\\\n",
        "  \n",
        "\n",
        " ----\n",
        "\n",
        " Nombres y  Apellidos de Integrantes (Añada porcentaje de participación de cada miembro del equipo): Concluido\n",
        " - Integrante 1: Gabriel Romero (100%)\n",
        " - Integrante 2: Matias Maravi (100%)\n",
        " - Integrante 3: Rodo Vilcarromero (100%)\n",
        " - Integrante 4: Fabian Alvarado (100%)\n",
        "\n",
        "\n",
        "*Una vez concluya la práctica debe subir el link de su colab a este  [Drive](https://docs.google.com/spreadsheets/d/1XCxGVmf8g29C7RZSPOqxvZHjjRZg45LHWR8mkZOfS1o/edit?usp=sharing)*\n"
      ]
    },
    {
      "cell_type": "markdown",
      "metadata": {
        "id": "MihkRIjZqYUq"
      },
      "source": [
        "# Librerias"
      ]
    },
    {
      "cell_type": "code",
      "execution_count": 2,
      "metadata": {
        "id": "1USTX28PB-Jv"
      },
      "outputs": [],
      "source": [
        "import math\n",
        "import pandas as pd\n",
        "import numpy as np\n",
        "# import torch\n",
        "import matplotlib.pyplot as plt\n",
        "# import tensorflow as tf"
      ]
    },
    {
      "cell_type": "markdown",
      "metadata": {
        "id": "JAm4HP4Hm-8h"
      },
      "source": [
        "\n",
        "# Base de datos\n",
        "1. Descarge en su disco esta Base de Datos:\n",
        "[Download](https://docs.google.com/spreadsheets/d/15-E3kiLJ6bCyXuJvSmxYAp2QYMkPX2QlQ597fAsPYy8/edit?usp=sharing).\n",
        "2. Para cargar la base de datos de su disco duro utilize el siguiente comando.\n",
        "from google.colab import files\n",
        "uploaded = files.upload()\n",
        "3. Cargamos 70% de los datos para entrenamiento y el resto para testing\n",
        "4. Solo estamos tomando 2 características, pero usted debe usar métodos de reducción de la dimensionalidad como PCA.\n"
      ]
    },
    {
      "cell_type": "code",
      "execution_count": 3,
      "metadata": {
        "id": "pF6kf3hGengR"
      },
      "outputs": [],
      "source": [
        "def normalize_data(train_data, test_data):\n",
        "    min_values = np.min(train_data, axis=0)\n",
        "    max_values = np.max(train_data, axis=0)\n",
        "\n",
        "    train_normalized = (train_data - min_values) / (max_values - min_values)\n",
        "    test_normalized = (test_data - min_values) / (max_values - min_values)\n",
        "\n",
        "    return train_normalized, test_normalized\n"
      ]
    },
    {
      "cell_type": "code",
      "execution_count": null,
      "metadata": {
        "id": "WRgjUhbwhAF9"
      },
      "outputs": [],
      "source": []
    },
    {
      "cell_type": "code",
      "execution_count": 4,
      "metadata": {
        "colab": {
          "base_uri": "https://localhost:8080/",
          "height": 192
        },
        "id": "5BkLOvXCPy5H",
        "outputId": "bbea744c-3482-4154-dbeb-1f0b1ee7c60b"
      },
      "outputs": [
        {
          "data": {
            "text/plain": [
              "'\\niris = pd.read_csv(\"DataSet_Iris_2_Clases.csv\")\\n\\niris[\\'label\\'] = np.where(iris[\\'variety\\'] == \\'Setosa\\', 1, -1)\\n\\niris_train = iris.sample(frac=0.7, random_state=42)\\niris_test = iris.drop(iris_train.index)\\n\\ntrain_min_values = iris_train[[\\'sepal.length\\', \\'sepal.width\\', \\'petal.length\\', \\'petal.width\\']].min()\\ntrain_max_values = iris_train[[\\'sepal.length\\', \\'sepal.width\\', \\'petal.length\\', \\'petal.width\\']].max()\\n\\niris_train[[\\'sepal.length\\', \\'sepal.width\\', \\'petal.length\\', \\'petal.width\\']] = (iris_train[[\\'sepal.length\\', \\'sepal.width\\', \\'petal.length\\', \\'petal.width\\']] - train_min_values) / (train_max_values - train_min_values)\\niris_test.loc[:, [\\'sepal.length\\', \\'sepal.width\\', \\'petal.length\\', \\'petal.width\\']] = (iris_test[[\\'sepal.length\\', \\'sepal.width\\', \\'petal.length\\', \\'petal.width\\']] - train_min_values) / (train_max_values - train_min_values)\\n\\niris_train_x = iris_train[[\\'sepal.length\\', \\'sepal.width\\']].to_numpy()\\niris_train_y = iris_train[\\'label\\'].to_numpy()\\niris_test_x = iris_test[[\\'sepal.length\\', \\'sepal.width\\']].to_numpy()\\niris_test_y = iris_test[\\'label\\'].to_numpy()\\n'"
            ]
          },
          "execution_count": 4,
          "metadata": {},
          "output_type": "execute_result"
        }
      ],
      "source": [
        "\n",
        "iris = pd.read_csv(\"iris.csv\")\n",
        "\n",
        "# Cambiamos todos los setosas a 1 y los demás a -1\n",
        "iris['label'] = np.where(iris['variety'] == 'Setosa', 1, -1)\n",
        "\n",
        "# 70% para entrenamiento y el resto para testing\n",
        "iris_train = iris.sample(frac=0.7)\n",
        "iris_test = iris[~iris.index.isin(iris_train.index)]\n",
        "\n",
        "# Solo tomamos 2 características para poder ser visualizado (Noda: En realidad debemos reducir la dimensionalidad por ejemplo con componentes principales)\n",
        "\n",
        "iris_train_x = iris_train[['sepal.length', 'sepal.width']].to_numpy()\n",
        "iris_train_y = iris_train['label'].to_numpy()\n",
        "\n",
        "iris_test_x = iris_test[['sepal.length', 'sepal.width']].to_numpy()\n",
        "iris_test_y = iris_test['label'].to_numpy()\n",
        "\n",
        "\n",
        "\"\"\"\n",
        "iris = pd.read_csv(\"DataSet_Iris_2_Clases.csv\")\n",
        "\n",
        "iris['label'] = np.where(iris['variety'] == 'Setosa', 1, -1)\n",
        "\n",
        "iris_train = iris.sample(frac=0.7, random_state=42)\n",
        "iris_test = iris.drop(iris_train.index)\n",
        "\n",
        "train_min_values = iris_train[['sepal.length', 'sepal.width', 'petal.length', 'petal.width']].min()\n",
        "train_max_values = iris_train[['sepal.length', 'sepal.width', 'petal.length', 'petal.width']].max()\n",
        "\n",
        "iris_train[['sepal.length', 'sepal.width', 'petal.length', 'petal.width']] = (iris_train[['sepal.length', 'sepal.width', 'petal.length', 'petal.width']] - train_min_values) / (train_max_values - train_min_values)\n",
        "iris_test.loc[:, ['sepal.length', 'sepal.width', 'petal.length', 'petal.width']] = (iris_test[['sepal.length', 'sepal.width', 'petal.length', 'petal.width']] - train_min_values) / (train_max_values - train_min_values)\n",
        "\n",
        "iris_train_x = iris_train[['sepal.length', 'sepal.width']].to_numpy()\n",
        "iris_train_y = iris_train['label'].to_numpy()\n",
        "iris_test_x = iris_test[['sepal.length', 'sepal.width']].to_numpy()\n",
        "iris_test_y = iris_test['label'].to_numpy()\n",
        "\"\"\""
      ]
    },
    {
      "cell_type": "markdown",
      "metadata": {
        "id": "87xtyhJ-QW0M"
      },
      "source": [
        "# **Soft SVM**\n",
        "\n",
        "- Implementar todas las funciones para que este código sea funcional"
      ]
    },
    {
      "cell_type": "code",
      "execution_count": 5,
      "metadata": {
        "id": "dFhgP37RiF-P"
      },
      "outputs": [],
      "source": [
        "def loss(y, x, w, bias, c):\n",
        "  m = np.maximum(0,1-y*(x @ w+bias))\n",
        "  return 0.5*np.dot(w,w)+c*np.sum(m)"
      ]
    },
    {
      "cell_type": "code",
      "execution_count": 6,
      "metadata": {
        "id": "Vj0ppl5Li6yD"
      },
      "outputs": [],
      "source": [
        "def grad(y, x, w, bias, c):\n",
        "    margin = y * (np.dot(x, w) + bias)\n",
        "    incorrect_classified = (margin < 1).astype(int)\n",
        "\n",
        "    grad_w = w - c * np.dot(x.T, (incorrect_classified * y))\n",
        "    grad_b = -c * np.sum(incorrect_classified * y)\n",
        "\n",
        "    return grad_w, grad_b"
      ]
    },
    {
      "cell_type": "code",
      "execution_count": 7,
      "metadata": {
        "id": "mqO6Es1UV_vV"
      },
      "outputs": [],
      "source": [
        "def update(w, b, grad, alpha):\n",
        "  w -= grad[0] * alpha\n",
        "  b -= grad[1] * alpha\n",
        "  return w,b"
      ]
    },
    {
      "cell_type": "code",
      "execution_count": 8,
      "metadata": {
        "id": "x9X_aYTscxq9"
      },
      "outputs": [],
      "source": [
        "def h(x, w, b):\n",
        "    return np.dot(x, w) + b"
      ]
    },
    {
      "cell_type": "markdown",
      "metadata": {
        "id": "TNvLah2IQbMd"
      },
      "source": [
        "# Entrenamiento"
      ]
    },
    {
      "cell_type": "code",
      "execution_count": 9,
      "metadata": {
        "id": "a__E7HxkPvXS"
      },
      "outputs": [],
      "source": [
        "def train(x,y,num_epochs,c=10, alpha=0.00001):\n",
        "  w = np.random.rand(iris_train_x.shape[1])\n",
        "  b = np.random.random()\n",
        "\n",
        "  loss_function = []\n",
        "  step = num_epochs//10\n",
        "  for epoch in range(num_epochs):\n",
        "    loss_value = loss(iris_train_y, iris_train_x, w, b, c)\n",
        "    loss_function.append(loss_value)\n",
        "    if epoch % step == 0:\n",
        "      print(f'Epoch {epoch}, loss {loss_value}')\n",
        "    for idx, x_i in enumerate(iris_train_x):\n",
        "      grad_values = grad(iris_train_y[idx], x_i, w, b, c)\n",
        "      w, b = update(w, b, grad_values, alpha)\n",
        "  return w,b\n",
        "\n",
        "  plt.plot(range(num_epochs), loss_function, label='Función de pérdida')\n",
        "  plt.legend(bbox_to_anchor=(1.04, 1), loc=\"upper left\")"
      ]
    },
    {
      "cell_type": "markdown",
      "metadata": {
        "id": "GHI-i76jr9C8"
      },
      "source": [
        "# Funciones par graficar"
      ]
    },
    {
      "cell_type": "code",
      "execution_count": 10,
      "metadata": {
        "id": "N3iyxOxF3LmA"
      },
      "outputs": [],
      "source": [
        "def plane_intersect(a, b):\n",
        "    a_vec, b_vec = np.array(a[:3]), np.array(b[:3])\n",
        "    aXb_vec = np.cross(a_vec, b_vec)\n",
        "    A = np.array([a_vec, b_vec, aXb_vec])\n",
        "    d = np.array([-a[3], -b[3], 0.]).reshape(3,1)\n",
        "    p_inter = np.linalg.solve(A, d).T\n",
        "    return p_inter[0], (p_inter + aXb_vec)[0]"
      ]
    },
    {
      "cell_type": "code",
      "execution_count": 11,
      "metadata": {
        "id": "fMr753pTjZQY"
      },
      "outputs": [],
      "source": [
        "def test(x,w,b,y):\n",
        "  v = np.dot(x,w) + b\n",
        "  m = []\n",
        "  for i in v:\n",
        "    if(i>0):\n",
        "      m.append(1)\n",
        "    else:\n",
        "      m.append(-1)\n",
        "  print(\"Numero de aciertos: \", np.sum(m == y))\n",
        "  print(\"Numero de errores: \", np.sum(m != y))"
      ]
    },
    {
      "cell_type": "code",
      "execution_count": 12,
      "metadata": {
        "colab": {
          "base_uri": "https://localhost:8080/",
          "height": 1000
        },
        "id": "kfLKpKvzt3mK",
        "outputId": "eb1a4a43-ec1c-490d-f61e-21932f77a475"
      },
      "outputs": [
        {
          "name": "stdout",
          "output_type": "stream",
          "text": [
            "Epoch 0, loss 1968.624055574604\n",
            "Epoch 100, loss 0.06537415235886865\n",
            "Epoch 200, loss 0.05931270808851318\n",
            "Epoch 300, loss 0.054037796665255766\n",
            "Epoch 400, loss 0.04944738621964408\n",
            "Epoch 500, loss 0.04545269421055145\n",
            "Epoch 600, loss 0.041976689993394746\n",
            "Epoch 700, loss 0.03895217639209783\n",
            "Epoch 800, loss 0.04167170118312707\n",
            "Epoch 900, loss 0.03459609922448343\n",
            "Numero de aciertos:  30\n",
            "Numero de errores:  0\n"
          ]
        },
        {
          "data": {
            "image/png": "[encoded data removed]",
            "text/plain": [
              "<Figure size 640x480 with 1 Axes>"
            ]
          },
          "metadata": {},
          "output_type": "display_data"
        }
      ],
      "source": [
        "import matplotlib.cm as cm\n",
        "w,b = train(iris_train_x,iris_train_y,1000)\n",
        "iris_y_ = h(iris_test_x, w, b)\n",
        "iris_y_pred = np.sign(iris_y_)\n",
        "\n",
        "x_1, x_2 = plane_intersect(list(w)+[0,b], [0,0,1,0])\n",
        "m = (x_2[1]-x_1[1])/(x_2[0]-x_1[0])\n",
        "c = -m*x_1[0] + x_1[1]\n",
        "\n",
        "d = 1/np.linalg.norm(w)\n",
        "c_p = -m*(x_1[0] + d*math.sqrt(1/(1+m**2))) + x_1[1] + m*d*math.sqrt(1/(1+m**2))\n",
        "\n",
        "plt.plot(range(4,8), [m*x_i + c for x_i in range(4,8)])\n",
        "plt.plot(range(4,8), [m*x_i + c - c_p for x_i in range(4,8)], '--')\n",
        "plt.plot(range(4,8), [m*x_i + c + c_p for x_i in range(4,8)], '--')\n",
        "plt.scatter(iris_test_x[:,0], iris_test_x[:,1], color=cm.rainbow(iris_y_pred + 1))\n",
        "\n",
        "test(iris_test_x,w,b,iris_test_y)"
      ]
    },
    {
      "cell_type": "code",
      "execution_count": 13,
      "metadata": {
        "colab": {
          "base_uri": "https://localhost:8080/"
        },
        "id": "bcbrLgizjN8J",
        "outputId": "4f2e951b-97b3-4e0f-9e05-ed9354050086"
      },
      "outputs": [
        {
          "name": "stdout",
          "output_type": "stream",
          "text": [
            "Hello World!\n"
          ]
        }
      ],
      "source": [
        "print(\"Hello World!\")"
      ]
    }
  ],
  "metadata": {
    "colab": {
      "provenance": []
    },
    "kernelspec": {
      "display_name": "Python 3",
      "name": "python3"
    },
    "language_info": {
      "codemirror_mode": {
        "name": "ipython",
        "version": 3
      },
      "file_extension": ".py",
      "mimetype": "text/x-python",
      "name": "python",
      "nbconvert_exporter": "python",
      "pygments_lexer": "ipython3",
      "version": "3.11.4"
    }
  },
  "nbformat": 4,
  "nbformat_minor": 0
}
