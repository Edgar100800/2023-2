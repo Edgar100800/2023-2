{
 "cells": [
  {
   "cell_type": "code",
   "execution_count": 1,
   "metadata": {},
   "outputs": [],
   "source": [
    "import pandas as pd\n",
    "import nltk\n",
    "from nltk.stem import PorterStemmer"
   ]
  },
  {
   "cell_type": "code",
   "execution_count": 2,
   "metadata": {},
   "outputs": [
    {
     "name": "stdout",
     "output_type": "stream",
     "text": [
      "{'vosotro', 'mejor', 'sei', 'toda', 'cosa', 'ha', 'vaya', 'tre', 'estan', 'conseguimo', 'usa', 'tienen', 'hubo', 'llevar', 'hasta', 'habían', 'encima', 'hacer', 'me', 'embargo', 'tengo', 'su', 'despué', 'cierto', 'hacemo', 'soy', 'dentro', 'dio', 'primera', 'dijo', 'valor', 'estuvo', 'pueda', 'bien', 'ya', 'incluso', 'aproximadament', 'cuatro', 'mucho', 'intentar', 'pue', 'tampoco', 'haciendo', 'poder', 'entr', 'porqu', 'cuenta', 'sólo', 'cierta', 'último', 'tercera', 'dar', 'verdadera', 'poca', 'están', 'travé', 'alrededor', 'aquella', 'fuera', 'no', 'ocho', 'sabe', 'haya', 'quier', 'encuentra', 'para', 'ninguno', 'anterior', 'estai', 'conseguir', 'también', 'estaba', 'pueden', 'fueron', 'un', 'vamo', 'sobr', 'nosotro', 'aunqu', 'segundo', 'mismo', 'consiguen', 'primer', 'siempr', 'luego', 'poco', 'tra', 'lleva', 'podriamo', 'voy', 'una', 'mediant', 'hace', 'son', 'tenido', 'otro', 'sido', 'emplean', 'podrán', 'total', 'estaban', 'varia', 'por', 'estará', 'partir', 'sean', 'vario', 'tenei', 'mencionó', 'esto', 'sigu', 'ere', 'mientra', 'pero', 'actualment', 'en', 'pued', 'intentai', 'otra', 'podei', 'vosotra', 'ambo', 'habrá', 'eran', 'nadi', 'será', 'tenía', 'le', 'modo', 'contra', 'ultimo', 'dan', 'tener', 'hacei', 'vai', 'queremo', 'cuanto', 'usai', 'exist', 'cómo', 'respecto', 'tal', 'solo', 'mucha', 'atra', 'junto', 'dijeron', 'así', 'do', 'nunca', 'dice', 'podría', 'ser', 'sí', 'ese', 'eramo', 'apena', 'nuevo', 'saben', 'hizo', 'siet', 'entonc', 'tenga', 'hago', 'buena', 'considera', 'má', 'cual', 'sin', 'cuando', 'principalment', 'uso', 'nada', 'da', 'alguna', 'grand', 'ninguna', 'tuvo', 'fue', 'alguno', 'solament', 'durant', 'está', 'quien', 'hoy', 'largo', 'bajo', 'arriba', 'trabajan', 'afirmó', 'cada', 'ademá', 'propio', 'conoc', 'tiempo', 'la', 'dicho', 'hicieron', 'lugar', 'meno', 'tendrá', 'dieron', 'realizó', 'comentó', 'est', 'hacen', 'existen', 'había', 'próximo', 'vez', 'como', 'emplear', 'ella', 'demá', 'lo', 'hacerlo', 'añadió', 'part', 'dond', 'de', 'dado', 'ir', 'usan', 'ello', 'que', 'buen', 'trabajo', 'sabemo', 'han', 'dicen', 'he', 'intento', 'haber', 'podrian', 'se', 'estado', 'del', 'gueno', 'aqui', 'adelant', 'sea', 'somo', 'bastant', 'aseguró', 'con', 'fin', 'llegó', 'nuestra', 'podria', 'tendrán', 'empleo', 'empleai', 'deben', 'intentan', 'ningún', 'verdad', 'verdadero', 'cinco', 'ex', 'por qué', 'realizado', 'éste', 'era', 'e', 'usamo', 'trabajamo', 'tan', 'consigo', 'tien', 'agregó', 'ésta', 'aquello', 'hacia', 'consigu', 'todo', 'posibl', 'sino', 'ust', 'pasado', 'nuestro', 'tanto', 'tenemo', 'lado', 'debe', 'desd', 'segunda', 'ant', 'usar', 'uno', 'el', 'momento', 'estoy', 'van', 'nueva', 'casi', 'podrá', 'según', 'podriai', 'serán', 'puedo', 'parec', 'ni', 'o', 'sabei', 'trabajai', 'soi', 'podemo', 'algún', 'mi', 'cerca', 'es', 'ésto', 'podrían', 'fuimo', 'hecho', 'quién', 'última', 'ejemplo', 'bueno', 'ver', 'a', 'emplea', 'vece', 'intentamo', 'pasada', 'al', 'ampleamo', 'siendo', 'trabaja', 'dejó', 'primero', 'trabajar', 'informó', 'aquel', 'eso', 'señaló', 'si', 'ahí', 'ahora', 'poner', 'realizar', 'pudo', 'fui', 'diferent', 'algo', 'sería', 'explicó', 'saber', 'pesar', 'igual', 'aún', 'qué', 'quedó', 'aquí', 'hemo', 'trata', 'muy', 'propia', 'él', 'todavía', 'yo', 'va', 'gran', 'estar', 'manifestó', 'esa', 'cualquier', 'hay', 'estamo', 'mio', 'mayor', 'misma', 'y', 'consideró', 'manera', 'siguient', 'expresó', 'creo', 'nosotra', 'debido', 'decir', 'sola', 'ayer', 'tuyo', 'esta', 'intenta', 'indicó'}\n"
     ]
    }
   ],
   "source": [
    "stemmer = PorterStemmer()\n",
    "stoplist_words2 = set()\n",
    "\n",
    "with open('stoplist.txt', 'r') as archivo_stoplist:\n",
    "    for palabra in archivo_stoplist:\n",
    "        stoplist_words2.add(stemmer.stem(palabra.strip()))\n",
    "        \n",
    "print(stoplist_words2)"
   ]
  },
  {
   "cell_type": "code",
   "execution_count": 6,
   "metadata": {},
   "outputs": [
    {
     "name": "stdout",
     "output_type": "stream",
     "text": [
      "{'abierto': [5], 'librars': [5], 'lengua': [6], 'glorfindel': [1], 'liberan': [3], 'replegars': [3], 'observando': [5], 'cruzando': [2], 'divid': [3], 'obra': [1, 6], 'guardián': [2], 'defraudada': [4], 'vision': [3], 'sobrina': [5], 'invasor': [6], 'debatirs': [4], 'serpient': [6], 'manten': [3], 'maldición': [5], 'matar': [6], 'yendo': [4], 'hombr': [5], 'negativa': [2], 'unión': [6], 'dedo': [6], 'desafortunada': [3], 'hen': [2], 'voltea': [5], 'concilio': [2], 'recuperado': [6], 'sur': [5], 'hijo': [5], 'tomó': [5], 'cantar': [1], 'capítulo': [3], 'mostrar': [5], 'apareció': [2], 'día': [1, 2, 3, 4, 5, 6], 'oest': [2, 3, 6], 'élfica': [2], 'dínen': [5], 'interpon': [5], 'moribundo': [5], 'harlond': [5], 'aprovechando': [3], 'acud': [1, 5], 'salvado': [1], 'iniciaron': [6], 'fiesta': [1], 'produc': [3], 'quería': [2], 'encerró': [2], 'atención': [5], 'integrada': [3], 'regresó': [2], 'faramir': [4, 5, 6], 'herido': [5], 'gravement': [5], 'derribada': [5], 'corrient': [1], 'congéner': [3], 'abismo': [2, 3], 'alcanzado': [2], 'encontrado': [1], 'motivo': [1, 4], 'caballero': [3], 'enorm': [4], 'acto': [3], 'pie': [2, 6], 'envía': [5], 'diálogo': [3], 'arrojar': [2], 'ley': [4], 'informar': [1], 'arrebatado': [1], 'recib': [5], 'atacado': [2, 4, 6], 'brazo': [5], 'escapado': [4], 'enfrentó': [2], 'curso': [2], 'disfrutan': [3], 'abajo': [6], 'inconscient': [6], 'eregion)': [2], 'formando': [2], 'viajero': [4], 'obligado': [5], 'dejar': [1], 'estrategia': [3], 'curioso': [3], 'end': [3], 'arnor': [1], 'dúnadan': [5], 'historia': [3], 'identidad': [5], 'escuchado': [2], '(meno': [3], 'ponen': [4], 'aparecieron': [2], 'deuda': [5], 'acuden': [1], 'hora': [5], 'decid': [4, 5], 'discurso': [1], 'moria': [2, 4], 'llevando': [1], 'luz': [5], 'heredero': [2], 'personalidad': [4], 'comienzo': [5], 'jardinero': [1], 'torr': [3, 4], 'asusta': [5], 'decidiría': [2], 'tropa': [4, 5, 6], 'ocultándol': [5], 'lago': [2], 'regresa': [1, 5], 'retractara': [3], 'sentado': [3], 'destruido': [2], 'encerrado': [3], 'salir': [1, 4], 'fuego': [2, 4], 'lind': [3], 'usado': [2, 4], 'exánim': [6], 'peligro': [2, 3], 'isengard': [2, 3], 'gwaihir': [6], 'inminencia': [3], 'bruna': [6], 'existencia': [4], 'combinada': [3], 'numeroso': [2], 'allí': [1, 2, 5, 6], 'escapars': [3], 'objeto': [3, 4], 'encontrara': [2], 'reencuentro': [3], 'aparec': [4], 'despertó': [2, 6], 'gamyi': [1], '111º': [1], 'alegría': [6], 'libr': [4], 'miembro': [2, 6], 'meduseld': [3], 'monstruo': [2], 'vigilado': [4], 'rechazarlo': [2], 'oponent': [3], 'quedan': [5], 'perecido': [3], 'cargo': [6], 'relatan': [3], 'sendero': [5, 6], 'precipitación': [3], 'círculo': [5], 'lograron': [2], 'malherido': [5], 'acompañarl': [1], 'lucha': [4, 5, 6], 'puso': [1, 2], 'légola': [3], 'capit': [3], 'oscuro»': [3], 'cabalgan': [5], 'merri': [1, 2, 3, 5, 6], 'fangorn': [3], 'escena': [5], 'huella': [3], 'éowyn': [5, 6], 'huida': [3], 'tranquilidad': [1], 'atravesar': [2, 4], 'evitar': [1], 'dirigieron': [6], 'retroced': [5], 'muriendo': [6], 'encuentran': [1, 3, 4, 5, 6], 'pusieron': [6], 'picado': [4], 'disfrazado': [6], 'sabía': [1], 'lanzan': [5], 'sammath': [6], 'consiguieron': [2], 'bord': [6], 'marchars': [6], 'arroja': [3], 'cobijo': [2], 'nombrado': [6], 'asamblea': [3], 'quedaron': [1], 'samsagaz': [1], 'perseguirl': [3], 'balrog': [2], 'comentar': [4], 'retuvo': [2], 'iii': [3], 'muil': [4], 'vencer': [3], 'barco': [5, 6], 'distinto': [2, 6], 'herencia': [1], 'entran': [4], 'convenciéndol': [1], 'trampa': [1], 'sarn': [2], 'sobrino': [1], 'estalla': [6], 'kraken': [2], 'dejado': [6], 'dispuso': [5], 'completo': [3], 'prefijada': [3], 'resto': [1, 2, 4], 'continúen': [4], 'mirada': [3], 'previo': [3], 'salida': [4], 'acontecimiento': [2, 3], 'rescatar': [3, 4, 5], 'entrar': [4, 5], 'ardid': [3], 'cuesta': [6], 'inert': [4], 'encontraron': [6], 'gigant': [4], 'contraatacar': [6], 'lomo': [5], 'hurtadilla': [4], 'quitarl': [2], 'lanzó': [5], 'enloquecido': [5], 'gratitud': [5], 'hiriendo': [1], 'nublada': [2], 'escombro': [3], 'habrían': [3], 'ciento': [5], 'decidieron': [2], 'perdido': [1], 'estorbo': [5], 'llamado': [1, 2, 5, 6], 'nob': [1], '(la': [2], 'planeando': [4], 'enviar': [5], 'ropa': [3], 'intentó': [2], 'obsesionada': [4], 'imperecedera': [6], 'preparan': [3], 'tambor': [2], 'amigo': [1, 2, 3], 'blanco': [3], '«escalera': [4], 'posada': [1], 'veint': [1], 'niega': [3], 'halbarad': [5], 'saliendo': [5], 'harad': [4], 'vivida': [3], 'tiend': [1], 'guardaba': [3], 'quemado': [5], 'ucorno': [1, 3], 'sorprendido': [1, 5], 'llegan': [1, 4, 5, 6], 'pudieran': [1], 'derrotaron': [3], 'huy': [5], 'pronunciado': [1], 'año': [1, 6], 'dirigían': [6], 'elladan': [5], 'llevaba': [2], 'vagando': [4], 'mira': [3], 'exterior': [3], 'saruman': [2, 3, 6], 'argumento': [4], 'ciénaga': [4], 'disponían': [5], 'rey': [1, 3, 4, 5, 6], 'noticia': [1, 3], 'tortura': [3], 'jefe': [5], 'espesa': [5], 'bárbol': [3, 6], 'oírs': [2], 'libraban': [4], 'capitán': [4], 'persecución': [3], 'tumulario': [1], 'pasar': [1, 2], 'enterándos': [3], 'emisario': [5], 'arrancándol': [6], 'recuperars': [6], 'condujeron': [2], 'caradhra': [2], 'comienza': [1, 4, 5, 6], 'senescal': [5], 'dispusieron': [5], 'ropaj': [5, 6], 'mal': [2], 'fueran': [5], 'disponía': [5], 'mitad': [6], 'helm': [3], 'necesidad': [5], 'protegía': [3], 'derrotado': [6], 'viaj': [1, 2, 4, 5, 6], 'perseguido': [1], 'éore': [3], 'negra': [4, 5, 6], 'cantidad': [4], 'producido': [6], 'sitiar': [5], 'isen': [5], '«señor': [3], 'misión': [4, 5], 'llegada': [3], 'comunicado': [3], 'libro': [2, 3, 6], 'barad-dûr': [3], 'gracia': [1, 4, 5], 'traicionada': [4], 'batidor': [5], 'antigua': [2], 'fuerza': [3, 5], 'dejarl': [3], 'estocada': [5], 'acudirían': [2], 'puesto': [3, 5], 'desayuno': [3], 'movilización': [5], 'lancero': [5], 'cabalgata': [5], 'convoca': [3], 'invitado': [2], 'rescatado': [6], 'apoyo': [5], 'acampar': [5], 'rohan': [2, 3, 5, 6], 'humillacion': [6], 'acabó': [1], 'tratarían': [2], 'único': [1, 4], 'deseo': [1], 'héroe': [6], 'convirtió': [6], 'llevado': [2, 4], 'frontera': [6], 'trepar': [6], 'enfrentándos': [5], 'acabaron': [6], 'custodiándola': [4], 'veloz': [5], 'rivendel': [1, 2, 6], 'encargó': [2], 'palantir': [3], 'suceso': [5], 'cumplir': [5], 'locura': [5], 'finalment': [4], 'decisión': [1], 'intención': [3, 5], 'esperaban': [6], 'salvars': [1], 'revela': [3, 5], 'sufriendo': [3], 'guard': [1], 'cena': [5], 'matándos': [6], 'pedir': [2], 'fold': [3], 'oculta': [5], 'sauron': [1, 2, 3, 4, 5, 6], 'batalla': [3, 5, 6], 'aldea': [1], 'siguiera': [2], 'mithril': [6], 'torech': [4], 'llamada': [2], 'alertado': [5], 'ocurrido': [2, 5], 'regreso': [6], 'marchó': [6], 'incorporado': [6], 'acompañarían': [2], 'hobbiton': [6], 'drúedain': [5], 'juramento': [5], 'destruyéndos': [6], 'discusión': [1], 'príncipe': [2], 'isildur': [1, 5], 'liberado': [5], 'acebeda': [2], 'nube': [5], 'trataba': [1, 3], 'inicia': [5], 'obliga': [3, 4], 'ejercía': [3], 'oportuna': [3], 'problema': [5], 'apresuró': [5], 'arrojarlo': [6], 'trae': [5], 'persiguen': [1], 'grima': [6], 'convenc': [2], 'edora': [3, 5, 6], 'rohirrim': [3, 5], 'parada': [1], 'vivir': [1], 'traza': [1], 'información': [1], 'refugiars': [3], 'reunirs': [1], 'enseñó': [1], 'jinet': [5], 'desviar': [5], 'reencontró': [6], 'rojo': [6], 'círdan': [6], 'acompañó': [6], 'seguían': [6], 'funeraria': [5], 'pira': [5], 'negaba': [1], 'mazarbul': [2], 'hermano': [2], 'flecha': [5], 'penetraba': [5], 'arwen': [6], 'toqu': [1], 'misterioso': [1], 'asentado': [2], 'esperaba': [5], 'amon': [1, 2], 'pasando': [2], 'tirith': [2, 3, 4, 5, 6], 'permitieran': [4], 'marcha': [4, 6], 'retirars': [5], 'capturado': [1, 2, 4], 'elrond': [1, 2, 6], 'prado': [2], 'confluyen': [3], 'corsario': [5], 'rath': [5], 'ghân-buri-ghân': [5], 'viejo': [1, 6], 'adentrars': [1], 'caballo': [1, 5], 'visitar': [6], 'parecido': [2], 'entregó': [6], 'cuerpo': [4, 5, 6], 'descansando': [2], 'decidirían': [1], 'inmovilizado': [4], 'roja': [5], 'mordor': [2, 4, 5], 'conducida': [6], 'dolorosa': [6], 'hermana': [5, 6], 'reino': [3, 4], 'cazador': [3], 'consumiendo': [6], 'quitándoselo': [3], 'conocido': [5], 'anduin': [1, 2, 5], 'senesc': [5, 6], 'terminar': [1], 'pueblo': [2], 'tendón': [5], 'victoria': [5], 'protegerlo': [2], 'ascend': [4], 'visita': [5], 'comitiva': [3, 6], 'muert': [2, 4, 5, 6], 'traición': [2, 4], 'dol': [3], 'llamar': [5], 'oscuro': [1], 'combatirl': [1], 'cansancio': [3], 'acudió': [1], 'tierra': [2, 6], 'sabio': [1], 'mese': [2], 'peripecia': [3], 'deten': [5], 'logra': [5], 'cansado': [6], 'acompañado': [1, 5, 6], 'quedado': [1], 'descarga': [5], 'comarca': [1, 6], 'terreno': [4], 'marchaban': [4], 'tomaron': [5, 6], 'derrotando': [6], 'transmiten': [5], 'golp': [5], 'sitio': [5], 'atrapado': [1, 3], 'llegar': [1, 2, 3, 4, 5, 6], 'yelmo': [5], 'descend': [4], 'mordisco': [6], 'guerrero': [6], 'servicio': [5], 'demandaba': [5], 'niebla': [1], 'ponerlo': [3], 'compañía': [4, 5, 6], 'morgul': [4], 'quinto': [5], 'conoció': [6], 'ocasionando': [1], 'decidir': [2], 'air': [6], 'definir': [3], 'crinblanca': [5], 'orco': [2, 3, 4, 5, 6], 'gríma': [3], 'gebir': [2], 'ayudara': [3], 'tumularia': [1], 'nort': [5], 'cirith': [4, 6], 'experiencia': [3], 'derrotan': [3, 6], 'vuelva': [4], 'frent': [3], 'suponía': [4], 'culmina': [3], 'estadía': [5], 'contradiccion': [4], 'agotamiento': [6], 'ascendiendo': [6], 'continuara': [6], 'amenaza': [4], 'tard': [2, 3, 6], 'horribl': [3], 'emprenden': [4, 6], 'campo': [1, 3, 5], 'intrigado': [3], 'consiguiendo': [4], 'malla': [6], 'princip': [1], 'representant': [2], 'presenciar': [5], 'bolsón': [1], 'ladera': [6], 'cogió': [2], 'entra': [4, 5], 'apartó': [2], 'espada': [5], 'tamaño': [5], 'convincent': [4], 'maligna': [3], 'apagado': [4], 'tomado': [5], 'impos': [5], 'hobbit': [1, 2, 3, 4, 6], 'marisc': [3], 'señal': [3, 5], 'defenders': [1], 'mágico': [1], 'anular': [6], 'ordena': [1], 'inútil': [6], 'frodo': [1, 2, 3, 4, 5, 6], 'logran': [1, 6], 'separación': [3, 4], 'sienta': [4], 'drúadan': [5], 'oportunidad': [3], 'partida': [1], 'vuelv': [4, 5], 'sorpresa': [3], 'consejo': [2, 4, 5], 'boromir': [2, 3, 5], 'muerto': [4, 5, 6], 'seguía': [2], 'recorrido': [4], 'órdene': [6], 'orilla': [2], 'pelargir': [5], 'irs': [1], 'sombra': [5], 'gimli': [2, 3, 5], 'delagua': [6], 'tomar': [4, 5], 'denethor': [5], 'apresura': [3], 'bree': [1], 'elfo': [1, 2, 6], 'montado': [1], 'comenzaron': [2], 'haldir': [2], 'parth': [2, 3, 5], 'emprend': [4], 'morgai': [4], 'resistencia': [5], 'narraba': [2], 'raza': [5], 'busca': [1, 2, 4, 5, 6], 'cerrado': [1, 6], 'vall': [4], 'barca': [2], 'producto': [1], 'termina': [5, 6], 'apresado': [3], 'campamento': [3], 'reveló': [2], 'poderoso': [2], 'brujo': [4, 5], 'informado': [1], 'dormían': [3], 'paz': [1], 'aconseja': [3], 'khazad': [2], 'montó': [5], 'voluntad': [6], 'cuentan': [3], 'reponers': [3], 'ungol': [4, 6], 'arrastrado': [1], 'cubrió': [5], 'intervención': [4], 'quebrada': [1], 'logró': [2], 'custodia': [3, 4], 'comunidad': [2], 'fatiga': [3], '\"amo\"': [4], 'mortuoria': [5], 'gamo': [1], 'debía': [2], 'treintena': [3], 'dirigía': [5], 'acompañaran': [5], 'noch': [1], 'facilitando': [6], 'sam': [2, 3, 4, 6], 'mina': [2, 3, 4, 5, 6], 'ciudad': [2, 3, 5], 'desfiladero': [4], 'cara': [5], 'desconcierto': [6], 'asistieron': [6], 'éomer': [3, 5, 6], 'convocan': [5], 'accidentalment': [1], 'mil': [5], 'gondor': [2, 3, 5, 6], 'ofreció': [2], 'dejando': [3], 'agua': [2], 'sirvient': [3], 'peso': [6], 'arrebatárselo': [1], 'sale': [5], 'deshecho': [6], 'mundo': [3], 'ocurrir': [4], 'reflexionar': [2], 'salieron': [2], 'acompaña': [1], 'hombre-sauc': [1], 'ramma': [5], 'contárselo': [2], 'rumbo': [6], 'vado': [1, 5], 'negaron': [6], 'ejército': [3, 5], 'funer': [6], 'gandalf': [1, 2, 3, 5, 6], 'bilbo': [1, 6], 'llega': [4, 6], 'estarían': [2], 'invis': [6], 'tema': [2], 'gandalf)': [3], 'escapar': [1, 2, 3, 6], 'clima': [2], 'dûm': [2], 'siguiendo': [2], 'llevan': [3], 'gollum': [1, 4, 6], 'ataqu': [3, 5], 'destruyera': [2], 'señor': [1, 2], 'balin': [2], 'ordenó': [2], 'llegaron': [2, 5], 'físicament': [6], 'araña': [4], 'descubrir': [4], 'aventura': [6], 'territorio': [3], 'nazgûl': [1, 2, 5, 6], 'casa': [1, 3, 5], 'traba': [5], 'reconstrucción': [6], 'encontrar': [5], 'negars': [5, 6], 'aprovechan': [6], 'alertar': [4], 'incluyendo': [5], 'veneno': [4], 'criatura': [1, 4, 6], 'acudir': [6], 'cae': [6], 'anillo': [1, 2, 4, 6], 'cámara': [2], 'pensando': [3], 'ofreciéndol': [5], 'narración': [3], 'ojo': [4], 'pippin': [1, 2, 3, 5, 6], 'enano': [2], 'debían': [5], 'casó': [6], 'puerto': [5, 6], 'despiertan': [6], 'grise': [6], 'atacan': [1], 'acción': [3], 'mago': [1, 2, 3, 6], 'recta»': [4], 'fracasa': [5], 'aragorn': [1, 2, 3, 5, 6], 'baran': [3], 'huir': [2, 4, 6], 'desaparec': [4], 'finalizada': [5], 'capitan': [5], 'idea': [5], 'ella-laraña': [4], 'vio': [2, 5], 'ayudándolo': [3], 'trató': [2], 'continúa': [6], 'dars': [6], 'pisador»': [1], 'vuelta': [2, 5], 'destino': [1, 6], 'descubr': [3], 'involuntariament': [3], 'siguió': [2], 'hálito': [5], 'habitaba': [5], 'codicia': [6], 'salva': [1], 'internars': [3], 'salvo': [3], 'continuar': [4], 'ariet': [5], 'media': [2], 'grupo': [4], 'lothlórien': [2], 'théoden': [3, 5, 6], 'parten': [1, 3, 4, 5, 6], 'interior': [3], 'obstant': [5], 'influencia': [3], 'defend': [3], 'bajan': [5], 'tumba': [2], 'milla': [5], 'enemigo': [2, 4, 5, 6], 'mont': [6], 'escaramuza': [4], 'cumpleaño': [1], 'terminan': [5], 'cota': [6], 'informa': [3, 5], 'emyn': [4], 'esquivarlo': [2], 'elrohir': [5], 'gigantesco': [5], 'asfaloth': [1], 'águila': [6], 'rompieron': [5], 'condicion': [5], 'galadriel': [2, 5, 6], 'plan': [1], 'senescalía': [2], 'muer': [3, 5], 'aparentement': [3, 4], 'acaba': [1, 4, 5], 'arma': [1], 'blanca': [3], 'justo': [4, 5], 'previsto': [6], 'dunlendino': [6], 'pago': [5], 'curación': [2], 'deseando': [2], 'tom': [1, 6], 'puerta': [2, 3, 4, 5, 6], 'toma': [3, 5], 'celebración': [1, 2], 'derrotar': [2, 3], 'celosament': [3], 'quedando': [3], 'llevarlo': [2], 'acercaran': [2], 'rescaten': [3], 'descuido': [4], 'deja': [4, 6], 'ataca': [5], 'rematar': [5], 'pone': [1, 6], 'grond': [5], 'inconsciencia': [4], 'metro': [4], 'saneamiento': [6], 'cercano': [2], 'presentan': [5], 'látigo': [2], 'dernhelm': [5], 'desatando': [4], 'representa': [3], 'pretexto': [1], 'descubren': [4], 'oculto': [4], 'deciden': [1, 3, 4, 5], 'uruk-hai': [3], 'cruzarla': [2], 'caía': [2], 'enviada': [5], 'enloquec': [5], 'suman': [5], 'negro': [2, 5], 'defensa': [2, 3], 'despedida': [6], 'creó': [2], 'darl': [3], 'tratar': [5], 'bruinen': [1], 'reún': [5], 'flota': [5], 'sombragrí': [5], 'desapareció': [1], 'montarac': [4, 5], 'puent': [2], 'obligada': [2], 'sagrario': [5], 'contó': [2], 'rescat': [6], 'apoderars': [6], 'mano': [3, 6], 'lobo': [2], 'pelennor': [5], 'habiendo': [5], 'encuentro': [5], 'llevara': [2, 5], 'hija': [6], 'celeborn': [2], 'incapaz': [6], 'orodruin': [2, 6], 'cayendo': [5], 'ithilien': [4, 6], 'túmulo': [1], 'sol': [5], 'umbar': [5], 'cargado': [6], 'reaparec': [6], 'escribiendo': [6], 'comida': [4], 'hirgon': [5], 'río': [1, 2, 5], 'recibir': [6], 'desastr': [1], 'guardar': [3], 'alternativo': [5], 'aniquilado': [2], 'imposibilita': [4], 'oye': [4], 'ayuda': [1, 5, 6], 'amo': [2, 4, 6], '(una': [3], 'orcos)': [3], 'dirigen': [3, 5], 'preso': [2], 've': [4], 'canción': [1], 'escondida': [2], 'asemeja': [4], 'comenzó': [5], 'destruyeron': [3], 'naur': [6], 'convertido': [3], 'malherida': [4], 'acompañar': [2], 'recibido': [3], 'tomada': [6], 'encontró': [1, 2], 'región': [5], 'preparar': [3, 4], 'camino': [1, 2, 4, 5, 6], 'llama': [6], 'personaj': [1], 'paso': [2, 4, 6], 'montaña': [2, 6], 'arrastró': [2], 'guíe': [4], 'síntoma': [5], 'servidor': [1], 'sûl': [1], 'atacada': [2], 'habers': [1, 6], 'tesoro': [6], 'legola': [2, 3, 5], 'póney': [1], 'grieta': [6], 'luchar': [5], 'siguiéndolo': [4], 'partió': [1, 2], 'seguir': [3], 'gravedad': [1], 'orthanc': [3, 6], 'viajan': [6], 'afortunadament': [4], 'presencia': [4], 'flechazo': [6], '«el': [1], 'bombadil': [1, 6], 'reencontrars': [3], 'grupa': [5], 'atrapan': [4], 'inició': [2], 'coronación': [6], 'ven': [5], 'lava': [6], 'supondría': [5], 'acababa': [1], 'duda': [1], 'repliegu': [3], 'harán': [3], 'echor': [5], 'gladio': [1], 'galen': [2, 3, 5], 'bosqu': [1, 2, 3, 5, 6], 'apenado': [2], 'acaban': [1, 6], 'dándole': [1], 'alerta': [1], 'medio': [3, 6], 'partiendo': [5], 'sexto': [5], 'caso': [5], 'final': [3], 'pequeña': [1], 'descubierto': [1, 4], 'ent': [3]}\n"
     ]
    }
   ],
   "source": [
    "libros = [\"libro1.txt\", \"libro2.txt\", \"libro3.txt\", \"libro4.txt\", \"libro5.txt\", \"libro6.txt\"]\n",
    "\n",
    "conjunto_total = set() \n",
    "conjuntos_libros = []\n",
    "\n",
    "# Se crea un conjunto con todas las palabras de todos los libros\n",
    "# Se crea un conjunto por cada libro con las palabras que contiene\n",
    "for libro in libros:\n",
    "    temp = set()\n",
    "    with open(libro, 'r') as archivo:\n",
    "        for linea in archivo:\n",
    "            palabras = linea.split()\n",
    "            for palabra in palabras:\n",
    "                if palabra[-1] in [\".\", \",\", \":\", \";\", \"?\", \"!\", \"¡\", \"¿\"]:\n",
    "                    palabra = palabra[:-1]\n",
    "                palabra = stemmer.stem(palabra.lower())\n",
    "                if palabra.lower() not in stoplist_words2:\n",
    "                    conjunto_total.add(palabra)\n",
    "                    temp.add(palabra)\n",
    "    conjuntos_libros.append(temp)\n",
    "\n",
    "\n",
    "matriz = []\n",
    "matriz2 = {}\n",
    "\n",
    "# Se busca si aparece cada palabra en cada libro y se guarda en un diccionario\n",
    "for palabra in conjunto_total:\n",
    "    tempbool = \"\"\n",
    "    count = 0\n",
    "    temnum = []\n",
    "    for libro in conjuntos_libros:\n",
    "        count+=1\n",
    "        if palabra in libro:\n",
    "            temnum.append(count)\n",
    "    matriz2[palabra] = temnum\n",
    "    temp = []\n",
    "\n",
    "# Imprimir el diccionario\n",
    "print(matriz2)\n",
    "\n",
    "# Ordenar el diccionario y seleccionar los 500 más grandes\n",
    "diccionario_ordenado = dict(sorted(matriz2.items(), key=lambda x: len(x[1]), reverse=True))\n",
    "mas_grandes = dict(list(diccionario_ordenado.items())[:500])\n",
    "\n",
    "# Crear la matriz apartir del diccionario\n",
    "for clave, valores in mas_grandes.items():\n",
    "    fila = [clave] + valores  # Agregar la clave como primer elemento de cada fila\n",
    "    matriz.append(fila)\n",
    "\n",
    "# Se crea el dataframe y se guarda en un archivo csv\n",
    "df = pd.DataFrame(matriz)\n",
    "df.to_csv(\"matriz2.csv\", index=False, header=False)"
   ]
  },
  {
   "cell_type": "code",
   "execution_count": 4,
   "metadata": {},
   "outputs": [],
   "source": [
    "def L(word):\n",
    "    word = stemmer.stem(word.lower())\n",
    "    return matriz2[word]\n",
    "\n",
    "def AND(list1, list2):\n",
    "    return list(set(list1) & set(list2))\n",
    "\n",
    "def OR(list1, list2):\n",
    "    return list(set(list1) | set(list2))\n",
    "\n",
    "def ANDNOT(list1, list2):\n",
    "    return list(set(list1) - set(list2))\n",
    "\n",
    "def retrieve(list):\n",
    "    for i in list:\n",
    "        print(libros[i-1])\n"
   ]
  },
  {
   "cell_type": "code",
   "execution_count": 10,
   "metadata": {},
   "outputs": [
    {
     "name": "stdout",
     "output_type": "stream",
     "text": [
      "libro1.txt\n",
      "libro4.txt\n",
      "libro5.txt\n"
     ]
    }
   ],
   "source": [
    "result = retrieve(ANDNOT(L(\"día\"), L(\"oest\")))\n"
   ]
  },
  {
   "cell_type": "code",
   "execution_count": null,
   "metadata": {},
   "outputs": [],
   "source": []
  }
 ],
 "metadata": {
  "kernelspec": {
   "display_name": "base",
   "language": "python",
   "name": "python3"
  },
  "language_info": {
   "codemirror_mode": {
    "name": "ipython",
    "version": 3
   },
   "file_extension": ".py",
   "mimetype": "text/x-python",
   "name": "python",
   "nbconvert_exporter": "python",
   "pygments_lexer": "ipython3",
   "version": "3.11.4"
  },
  "orig_nbformat": 4
 },
 "nbformat": 4,
 "nbformat_minor": 2
}
