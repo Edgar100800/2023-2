{
  "cells": [
    {
      "cell_type": "markdown",
      "metadata": {
        "id": "uM9XJw5ICgjr"
      },
      "source": [
        " # Práctica  4.\n",
        " ----\n",
        "  \n",
        "  Universidad : UTEC \\\\\n",
        "  Curso       : Inteligencia Artificial \\\\\n",
        "  Profesor    : Cristian López Del Alamo \\\\\n",
        "  Tema        : Soft SVM \\\\\n",
        "  \n",
        "\n",
        " ----\n",
        "\n",
        " Nombres y  Apellidos de Integrantes (Añada porcentaje de participación de cada miembro del equipo):\n",
        " - Integrante 1: Camila Vela (100%)\n",
        " - Integrante 2: Carlos Flores (100%)\n",
        " - Integrante 3: Mateo Llallire (100%)\n",
        " - Integrante 3: Marcelo Zuloeta (100%)\n",
        "\n",
        "\n",
        "*Una vez concluya la práctica debe subir el link de su colab a este  [Drive](https://docs.google.com/spreadsheets/d/1XCxGVmf8g29C7RZSPOqxvZHjjRZg45LHWR8mkZOfS1o/edit?usp=sharing)*\n"
      ]
    },
    {
      "cell_type": "markdown",
      "metadata": {
        "id": "MihkRIjZqYUq"
      },
      "source": [
        "# Librerias"
      ]
    },
    {
      "cell_type": "code",
      "execution_count": 2,
      "metadata": {
        "id": "1USTX28PB-Jv"
      },
      "outputs": [],
      "source": [
        "import math\n",
        "import pandas as pd\n",
        "import numpy as np\n",
        "# import torch\n",
        "import matplotlib.pyplot as plt\n",
        "# import tensorflow as tf"
      ]
    },
    {
      "cell_type": "markdown",
      "metadata": {
        "id": "JAm4HP4Hm-8h"
      },
      "source": [
        "\n",
        "# Base de datos\n",
        "1. Descarge en su disco esta Base de Datos:\n",
        "[Download](https://docs.google.com/spreadsheets/d/15-E3kiLJ6bCyXuJvSmxYAp2QYMkPX2QlQ597fAsPYy8/edit?usp=sharing).\n",
        "2. Para cargar la base de datos de su disco duro utilize el siguiente comando.\n",
        "from google.colab import files\n",
        "uploaded = files.upload()\n",
        "3. Cargamos 70% de los datos para entrenamiento y el resto para testing\n",
        "4. Solo estamos tomando 2 características, pero usted debe usar métodos de reducción de la dimensionalidad como PCA.\n"
      ]
    },
    {
      "cell_type": "code",
      "execution_count": 4,
      "metadata": {
        "id": "5BkLOvXCPy5H"
      },
      "outputs": [
        {
          "name": "stdout",
          "output_type": "stream",
          "text": [
            "    sepal.length  sepal.width  petal.length  petal.width  variety\n",
            "0            5.1          3.5           1.4          0.2        1\n",
            "1            4.9          3.0           1.4          0.2        1\n",
            "2            4.7          3.2           1.3          0.2        1\n",
            "3            4.6          3.1           1.5          0.2        1\n",
            "4            5.0          3.6           1.4          0.2        1\n",
            "..           ...          ...           ...          ...      ...\n",
            "95           5.7          3.0           4.2          1.2       -1\n",
            "96           5.7          2.9           4.2          1.3       -1\n",
            "97           6.2          2.9           4.3          1.3       -1\n",
            "98           5.1          2.5           3.0          1.1       -1\n",
            "99           5.7          2.8           4.1          1.3       -1\n",
            "\n",
            "[100 rows x 5 columns]\n"
          ]
        }
      ],
      "source": [
        "# Base de datos\n",
        "# from google.colab import files\n",
        "# uploaded = files.upload()\n",
        "\n",
        "# Cargando datos\n",
        "Nombre_Data_Set = 'iris.csv'\n",
        "iris = pd.read_csv(Nombre_Data_Set)\n",
        "print(iris)\n",
        "\n",
        "# Cambiamos todos los setosas a 1 y los demás a -1\n",
        "iris['label'] = np.where(iris['variety'] == 'Setosa', 1, -1)\n",
        "\n",
        "# 70% para entrenamiento y el resto para testing\n",
        "iris_train = iris.sample(frac=0.7)\n",
        "iris_test = iris[~iris.index.isin(iris_train.index)]\n",
        "\n",
        "# Solo tomamos 2 características para poder ser visualizado (Noda: En realidad debemos reducir la dimensionalidad por ejemplo con componentes principales)\n",
        "\n",
        "iris_train_x = iris_train[['sepal.length', 'sepal.width']].to_numpy()\n",
        "iris_train_y = iris_train['label'].to_numpy()\n",
        "\n",
        "iris_test_x = iris_test[['sepal.length', 'sepal.width']].to_numpy()\n",
        "iris_test_y = iris_test['label'].to_numpy()\n",
        "\n"
      ]
    },
    {
      "cell_type": "markdown",
      "metadata": {
        "id": "87xtyhJ-QW0M"
      },
      "source": [
        "# **Soft SVM**\n",
        "\n",
        "- Implementar todas las funciones para que este código sea funcional"
      ]
    },
    {
      "cell_type": "code",
      "execution_count": 5,
      "metadata": {
        "id": "dFhgP37RiF-P"
      },
      "outputs": [],
      "source": [
        "def loss(y, X, w, bias, C):\n",
        "    # Compute the Hinge Loss for each sample\n",
        "    hinge_loss = 1 - y * (np.dot(X, w) + bias)\n",
        "    hinge_loss[hinge_loss < 0] = 0  # max(0, hinge_loss)\n",
        "\n",
        "    # Promedio\n",
        "    avg_hinge_loss = np.mean(hinge_loss)\n",
        "\n",
        "    # Añadiendo el termino regularizador\n",
        "    total_loss = avg_hinge_loss + C * np.dot(w, w)\n",
        "\n",
        "    return total_loss"
      ]
    },
    {
      "cell_type": "code",
      "execution_count": 6,
      "metadata": {
        "id": "Vj0ppl5Li6yD"
      },
      "outputs": [],
      "source": [
        "def grad(y, X, w, bias, C):\n",
        "\n",
        "    # Inicializando gradientes\n",
        "    dw = np.zeros(w.shape)\n",
        "    db = 0\n",
        "\n",
        "    N = len(y)\n",
        "\n",
        "    # Calculando la distancia (hinge loss components) for each sample\n",
        "    distances = 1 - y * (np.dot(X, w) + bias)\n",
        "\n",
        "    for i in range(N):\n",
        "        if max(0, distances[i]) == 0:  # Correctly\n",
        "            di = w\n",
        "        else:  # Misclassified\n",
        "            di = w - C * y[i] * X[i]\n",
        "\n",
        "        dw += di\n",
        "\n",
        "    # Promediando las gradientes\n",
        "    dw = dw / N\n",
        "    db = -C * np.sum(y[distances >= 1])\n",
        "\n",
        "    return dw, db"
      ]
    },
    {
      "cell_type": "code",
      "execution_count": 7,
      "metadata": {
        "id": "mqO6Es1UV_vV"
      },
      "outputs": [],
      "source": [
        "def update(w, b, grad, alpha):\n",
        "  # Actualizando parametros\n",
        "  dw, db = grad\n",
        "  w_new = w - alpha * dw\n",
        "  b_new = b - alpha *db\n",
        "  return w_new, b_new"
      ]
    },
    {
      "cell_type": "markdown",
      "metadata": {
        "id": "TNvLah2IQbMd"
      },
      "source": [
        "# Entrenamiento"
      ]
    },
    {
      "cell_type": "code",
      "execution_count": 8,
      "metadata": {
        "id": "a__E7HxkPvXS"
      },
      "outputs": [],
      "source": [
        "def train(x,y,num_epochs,c=10, alpha=0.00001):\n",
        "  w = np.random.rand(iris_train_x.shape[1])\n",
        "  b = np.random.random()\n",
        "\n",
        "  loss_function = []\n",
        "  step = num_epochs//10\n",
        "  for epoch in range(num_epochs):\n",
        "    loss_value = loss(iris_train_y, iris_train_x, w, b, c)\n",
        "    loss_function.append(loss_value)\n",
        "    if epoch % step == 0:\n",
        "      print(f'Epoch {epoch}, loss {loss_value}')\n",
        "    for idx, x_i in enumerate(iris_train_x):\n",
        "      grad_values = grad(iris_train_y[idx], x_i, w, b, c)\n",
        "      w, b = update(w, b, grad_values, alpha)\n",
        "  return w,b\n",
        "\n",
        "  plt.plot(range(num_epochs), loss_function, label='Función de pérdida')\n",
        "  plt.legend(bbox_to_anchor=(1.04, 1), loc=\"upper left\")"
      ]
    },
    {
      "cell_type": "code",
      "execution_count": 9,
      "metadata": {
        "id": "QylMyAuloSYv"
      },
      "outputs": [],
      "source": [
        "def train(X, y, epochs=1000, learning_rate=0.01, C=1.0):\n",
        "    w = np.zeros(X.shape[1])  # Initialize weights\n",
        "    b = 0  # Initialize bias\n",
        "\n",
        "    for epoch in range(epochs):\n",
        "        # Compute loss and gradients\n",
        "        loss_value = loss(y, X, w, b, C)\n",
        "        dw, db = grad(y, X, w, b, C)\n",
        "\n",
        "        # Update weights and bias\n",
        "        w, b = update(w, b, (dw, db), learning_rate)\n",
        "\n",
        "    return w, b"
      ]
    },
    {
      "cell_type": "code",
      "execution_count": 16,
      "metadata": {},
      "outputs": [],
      "source": [
        "def h(x, w, b):\n",
        "    return np.dot(x, w) + b"
      ]
    },
    {
      "cell_type": "markdown",
      "metadata": {
        "id": "GHI-i76jr9C8"
      },
      "source": [
        "# Funciones par graficar"
      ]
    },
    {
      "cell_type": "code",
      "execution_count": 17,
      "metadata": {
        "id": "N3iyxOxF3LmA"
      },
      "outputs": [],
      "source": [
        "def plane_intersect(a, b):\n",
        "    a_vec, b_vec = np.array(a[:3]), np.array(b[:3])\n",
        "    aXb_vec = np.cross(a_vec, b_vec)\n",
        "    A = np.array([a_vec, b_vec, aXb_vec])\n",
        "    d = np.array([-a[3], -b[3], 0.]).reshape(3,1)\n",
        "    p_inter = np.linalg.solve(A, d).T\n",
        "    return p_inter[0], (p_inter + aXb_vec)[0]"
      ]
    },
    {
      "cell_type": "code",
      "execution_count": 18,
      "metadata": {
        "id": "kfLKpKvzt3mK"
      },
      "outputs": [
        {
          "data": {
            "text/plain": [
              "<matplotlib.collections.PathCollection at 0x2019d55de90>"
            ]
          },
          "execution_count": 18,
          "metadata": {},
          "output_type": "execute_result"
        },
        {
          "data": {
            "image/png": "[encoded data removed]",
            "text/plain": [
              "<Figure size 640x480 with 1 Axes>"
            ]
          },
          "metadata": {},
          "output_type": "display_data"
        }
      ],
      "source": [
        "import matplotlib.cm as cm\n",
        "w,b = train(iris_train_x,iris_train_y,1000)\n",
        "iris_y_ = h(iris_test_x, w, b)\n",
        "iris_y_pred = np.sign(iris_y_)\n",
        "\n",
        "x_1, x_2 = plane_intersect(list(w)+[0,b], [0,0,1,0])\n",
        "m = (x_2[1]-x_1[1])/(x_2[0]-x_1[0])\n",
        "c = -m*x_1[0] + x_1[1]\n",
        "\n",
        "d = 1/np.linalg.norm(w)\n",
        "c_p = -m*(x_1[0] + d*math.sqrt(1/(1+m**2))) + x_1[1] + m*d*math.sqrt(1/(1+m**2))\n",
        "\n",
        "plt.plot(range(4,8), [m*x_i + c for x_i in range(4,8)])\n",
        "plt.plot(range(4,8), [m*x_i + c - c_p for x_i in range(4,8)], '--')\n",
        "plt.plot(range(4,8), [m*x_i + c + c_p for x_i in range(4,8)], '--')\n",
        "plt.scatter(iris_test_x[:,0], iris_test_x[:,1], color=cm.rainbow(iris_y_pred + 1))"
      ]
    },
    {
      "cell_type": "code",
      "execution_count": 15,
      "metadata": {
        "id": "2pjdXJcsqRwx"
      },
      "outputs": [],
      "source": [
        "def h(test,w,b): # definir el hiperplano\n",
        "    return np.dot(test,w) + b"
      ]
    }
  ],
  "metadata": {
    "colab": {
      "collapsed_sections": [
        "WBSf3AT4aGeG",
        "vplH-P8SYZ3z",
        "nog4UbDXhe54"
      ],
      "provenance": []
    },
    "kernelspec": {
      "display_name": "Python 3",
      "name": "python3"
    },
    "language_info": {
      "codemirror_mode": {
        "name": "ipython",
        "version": 3
      },
      "file_extension": ".py",
      "mimetype": "text/x-python",
      "name": "python",
      "nbconvert_exporter": "python",
      "pygments_lexer": "ipython3",
      "version": "3.11.4"
    }
  },
  "nbformat": 4,
  "nbformat_minor": 0
}
